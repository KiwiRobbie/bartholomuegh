{
 "cells": [
  {
   "cell_type": "code",
   "execution_count": 3,
   "id": "1dd2d182",
   "metadata": {},
   "outputs": [],
   "source": [
    "struct Test{\n",
    "    a: u32,\n",
    "    b: u32,\n",
    "}\n",
    "let a = Test{a: 1u32, b: 2u32};"
   ]
  },
  {
   "cell_type": "code",
   "execution_count": null,
   "id": "ef051f2e",
   "metadata": {},
   "outputs": [],
   "source": []
  }
 ],
 "metadata": {
  "kernelspec": {
   "display_name": "Rust",
   "language": "rust",
   "name": "rust"
  },
  "language_info": {
   "codemirror_mode": "rust",
   "file_extension": ".rs",
   "mimetype": "text/rust",
   "name": "Rust",
   "pygment_lexer": "rust",
   "version": ""
  }
 },
 "nbformat": 4,
 "nbformat_minor": 5
}
