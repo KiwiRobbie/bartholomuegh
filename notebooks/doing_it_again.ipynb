{
 "cells": [
  {
   "cell_type": "code",
   "execution_count": 57,
   "metadata": {},
   "outputs": [],
   "source": [
    "import sympy as sp\n",
    "from sympy.parsing.sympy_parser import parse_expr as expr\n",
    "from IPython.core.interactiveshell import InteractiveShell\n",
    "InteractiveShell.ast_node_interactivity = 'all'"
   ]
  },
  {
   "cell_type": "code",
   "execution_count": 58,
   "metadata": {},
   "outputs": [],
   "source": [
    "rho = expr(\"sqrt(r**2 + a**2*cos(theta)**2)\")\n",
    "Delta = expr(\"r**2 -2*r+a**2\")\n",
    "Sigma = expr(\"sqrt((r**2+a**2)**2 -a**2*Delta*sin(theta)**2)\")\n",
    "alpha = expr(\"rho*sqrt(Delta)/Sigma\")\n",
    "omega = expr(\"2* a*r/Sigma**2\")\n",
    "omega_bar = expr(\"Sigma*sin(theta)/rho\")\n",
    "\n",
    "P = expr(\"r**2 + a**2 - a*b\")\n",
    "R = expr(\"P**2 - Delta*((b-a)**2+q)\")\n",
    "Theta = expr(\"q-cos(theta)**2* (b**2/sin(theta)**2-a**2)\")\n",
    "\n",
    "d_r = expr(\"Delta/rho**2*p_r\")\n",
    "d_theta = expr(\"1/rho**2*p_theta\")\n",
    "\n",
    "d_phi = -expr(\"(R(b)+Delta*Theta(b))/(2*Delta*rho**2)\").diff(\"b\")\n",
    "d_p_r     = sp.diff(expr(\"-Delta(r)/(2*rho(r)**2)*p_r**2-1/(2*rho(r)**2)*p_theta**2+((R+Delta(r)*Theta)/(2*Delta(r)*rho(r)**2))\"),\"r\")\n",
    "d_p_theta = sp.diff(expr(\"-Delta/(2*rho(theta)**2)*p_r**2-1/(2*rho(theta)**2)*p_theta**2+((R(theta)+Delta(theta)*Theta(theta))/(2*Delta*rho(theta)**2))\"),\"theta\")"
   ]
  },
  {
   "cell_type": "code",
   "execution_count": 67,
   "metadata": {},
   "outputs": [
    {
     "data": {
      "text/latex": [
       "$\\displaystyle - \\frac{p_{r}^{2} \\left(a^{2} + r^{2} - 2 r\\right)}{2 \\left(a^{2} \\cos^{2}{\\left(\\theta \\right)} + r^{2}\\right)} - \\frac{p_{\\theta}^{2}}{2 \\left(a^{2} \\cos^{2}{\\left(\\theta \\right)} + r^{2}\\right)} + \\frac{\\left(q - \\left(- a^{2} + \\frac{b^{2}}{\\sin^{2}{\\left(\\theta \\right)}}\\right) \\cos^{2}{\\left(\\theta \\right)}\\right) \\left(a^{2} + r^{2} - 2 r\\right) - \\left(q + \\left(- a + b\\right)^{2}\\right) \\left(a^{2} + r^{2} - 2 r\\right) + \\left(a^{2} - a b + r^{2}\\right)^{2}}{2 \\left(a^{2} \\cos^{2}{\\left(\\theta \\right)} + r^{2}\\right) \\left(a^{2} + r^{2} - 2 r\\right)}$"
      ],
      "text/plain": [
       "-p_r**2*(a**2 + r**2 - 2*r)/(2*(a**2*cos(theta)**2 + r**2)) - p_theta**2/(2*(a**2*cos(theta)**2 + r**2)) + ((q - (-a**2 + b**2/sin(theta)**2)*cos(theta)**2)*(a**2 + r**2 - 2*r) - (q + (-a + b)**2)*(a**2 + r**2 - 2*r) + (a**2 - a*b + r**2)**2)/(2*(a**2*cos(theta)**2 + r**2)*(a**2 + r**2 - 2*r))"
      ]
     },
     "metadata": {},
     "output_type": "display_data"
    }
   ],
   "source": [
    "d_p_r = expr(\"-Delta/(2*rho**2)*p_r**2-1/(2*rho**2)*p_theta**2+((R+Delta*Theta)/(2*Delta*rho**2))\")\n",
    "d_p_r = d_p_r.subs(\n",
    "    {\n",
    "        \"Delta\": Delta,\n",
    "        \"rho\": rho,\n",
    "        \"R\": R,\n",
    "        \"Theta\": Theta\n",
    "    }\n",
    ").subs(\"Delta\", Delta).subs(\"P\",P)\n"
   ]
  }
 ],
 "metadata": {
  "kernelspec": {
   "display_name": "Python 3",
   "language": "python",
   "name": "python3"
  },
  "language_info": {
   "codemirror_mode": {
    "name": "ipython",
    "version": 3
   },
   "file_extension": ".py",
   "mimetype": "text/x-python",
   "name": "python",
   "nbconvert_exporter": "python",
   "pygments_lexer": "ipython3",
   "version": "3.11.3"
  },
  "orig_nbformat": 4
 },
 "nbformat": 4,
 "nbformat_minor": 2
}
