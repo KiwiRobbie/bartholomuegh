{
 "cells": [
  {
   "cell_type": "code",
   "execution_count": 80,
   "metadata": {},
   "outputs": [],
   "source": [
    "import sympy as sp\n",
    "from sympy.parsing.sympy_parser import parse_expr as expr\n",
    "from IPython.core.interactiveshell import InteractiveShell\n",
    "InteractiveShell.ast_node_interactivity = 'all'"
   ]
  },
  {
   "cell_type": "code",
   "execution_count": 81,
   "metadata": {},
   "outputs": [],
   "source": [
    "rho = expr(\"sqrt(r**2 + a**2*cos(theta)**2)\")\n",
    "Delta = expr(\"r**2 -2*r+a**2\")\n",
    "Sigma = expr(\"sqrt((r**2+a**2)**2 -a**2*Delta*sin(theta)**2)\")\n",
    "alpha = expr(\"rho*sqrt(Delta)/Sigma\")\n",
    "omega = expr(\"2* a*r/Sigma**2\")\n",
    "omega_bar = expr(\"Sigma*sin(theta)/rho\")\n",
    "\n",
    "P = expr(\"r**2 + a**2 - a*b\")\n",
    "R = expr(\"P**2 - Delta*((b-a)**2+q)\")\n",
    "Theta = expr(\"q-cos(theta)**2* (b**2/sin(theta)**2-a**2)\")\n",
    "\n",
    "d_r = expr(\"Delta/rho**2*p_r\")\n",
    "d_theta = expr(\"1/rho**2*p_theta\")\n",
    "\n",
    "d_phi = -expr(\"(R(b)+Delta*Theta(b))/(2*Delta*rho**2)\").diff(\"b\")\n",
    "d_p_r     = sp.diff(expr(\"-Delta(r)/(2*rho(r)**2)*p_r**2-1/(2*rho(r)**2)*p_theta**2+((R+Delta(r)*Theta)/(2*Delta(r)*rho(r)**2))\"),\"r\")\n",
    "d_p_theta = sp.diff(expr(\"-Delta/(2*rho(theta)**2)*p_r**2-1/(2*rho(theta)**2)*p_theta**2+((R(theta)+Delta(theta)*Theta(theta))/(2*Delta*rho(theta)**2))\"),\"theta\")"
   ]
  },
  {
   "cell_type": "code",
   "execution_count": 82,
   "metadata": {},
   "outputs": [
    {
     "data": {
      "text/latex": [
       "$\\displaystyle \\sqrt{a^{2} \\cos^{2}{\\left(\\theta \\right)} + r^{2}}$"
      ],
      "text/plain": [
       "sqrt(a**2*cos(theta)**2 + r**2)"
      ]
     },
     "metadata": {},
     "output_type": "display_data"
    },
    {
     "data": {
      "text/latex": [
       "$\\displaystyle a^{2} + r^{2} - 2 r$"
      ],
      "text/plain": [
       "a**2 + r**2 - 2*r"
      ]
     },
     "metadata": {},
     "output_type": "display_data"
    },
    {
     "data": {
      "text/latex": [
       "$\\displaystyle \\sqrt{- \\Delta a^{2} \\sin^{2}{\\left(\\theta \\right)} + \\left(a^{2} + r^{2}\\right)^{2}}$"
      ],
      "text/plain": [
       "sqrt(-Delta*a**2*sin(theta)**2 + (a**2 + r**2)**2)"
      ]
     },
     "metadata": {},
     "output_type": "display_data"
    },
    {
     "data": {
      "text/latex": [
       "$\\displaystyle \\frac{\\sqrt{\\Delta} \\rho}{\\Sigma}$"
      ],
      "text/plain": [
       "sqrt(Delta)*rho/Sigma"
      ]
     },
     "metadata": {},
     "output_type": "display_data"
    },
    {
     "data": {
      "text/latex": [
       "$\\displaystyle \\frac{2 a r}{\\Sigma^{2}}$"
      ],
      "text/plain": [
       "2*a*r/Sigma**2"
      ]
     },
     "metadata": {},
     "output_type": "display_data"
    },
    {
     "data": {
      "text/latex": [
       "$\\displaystyle \\frac{\\Sigma \\sin{\\left(\\theta \\right)}}{\\rho}$"
      ],
      "text/plain": [
       "Sigma*sin(theta)/rho"
      ]
     },
     "metadata": {},
     "output_type": "display_data"
    }
   ],
   "source": [
    "display(rho, Delta, Sigma, alpha, omega, omega_bar)"
   ]
  },
  {
   "cell_type": "code",
   "execution_count": 83,
   "metadata": {},
   "outputs": [
    {
     "data": {
      "text/latex": [
       "$\\displaystyle a^{2} - a b + r^{2}$"
      ],
      "text/plain": [
       "a**2 - a*b + r**2"
      ]
     },
     "metadata": {},
     "output_type": "display_data"
    },
    {
     "data": {
      "text/latex": [
       "$\\displaystyle - \\Delta \\left(q + \\left(- a + b\\right)^{2}\\right) + P^{2}$"
      ],
      "text/plain": [
       "-Delta*(q + (-a + b)**2) + P**2"
      ]
     },
     "metadata": {},
     "output_type": "display_data"
    },
    {
     "data": {
      "text/latex": [
       "$\\displaystyle q - \\left(- a^{2} + \\frac{b^{2}}{\\sin^{2}{\\left(\\theta \\right)}}\\right) \\cos^{2}{\\left(\\theta \\right)}$"
      ],
      "text/plain": [
       "q - (-a**2 + b**2/sin(theta)**2)*cos(theta)**2"
      ]
     },
     "metadata": {},
     "output_type": "display_data"
    }
   ],
   "source": [
    "display(P, R, Theta)"
   ]
  },
  {
   "cell_type": "code",
   "execution_count": 84,
   "metadata": {},
   "outputs": [],
   "source": [
    "def metric_values(r, theta, phi, a):\n",
    "    rho_v = rho.subs({\"r\": r, \"a\": a, \"theta\": theta}).evalf()\n",
    "    Delta_v = Delta.subs({\"r\": r, \"a\": a}).evalf()\n",
    "    Sigma_v = Sigma.subs({\"r\": r, \"a\": a, \"theta\": theta, \"Delta\": Delta_v}).evalf()\n",
    "    alpha_v = alpha.subs({\"rho\": rho_v, \"Delta\": Delta_v, \"Sigma\": Sigma_v}).evalf()\n",
    "    omega_v = omega.subs({\"a\": a, \"r\": r, \"Sigma\": Sigma_v}).evalf()\n",
    "    omega_bar_v = omega_bar.subs({\"a\": a, \"r\": r, \"Sigma\": Sigma_v, \"theta\": theta, \"rho\": rho_v}).evalf()\n",
    "\n",
    "    return {\n",
    "        \"r\": r,\n",
    "        \"theta\": theta,\n",
    "        \"phi\": phi,\n",
    "        \"a\": a,\n",
    "        \"rho\": rho_v,\n",
    "        \"Delta\": Delta_v,\n",
    "        \"Sigma\": Sigma_v,\n",
    "        \"alpha\": alpha_v,\n",
    "        \"omega\": omega_v,\n",
    "        \"omega_bar\": omega_bar_v,\n",
    "    }\n",
    "\n",
    "def sub_metric_values(expr, values):\n",
    "    return expr.subs(values).evalf()"
   ]
  },
  {
   "cell_type": "code",
   "execution_count": 96,
   "metadata": {},
   "outputs": [
    {
     "name": "stdout",
     "output_type": "stream",
     "text": [
      "[(0, r/sqrt(a**2*cos(theta)**2 + r**2), -a**2*sin(theta)*cos(theta)/sqrt(a**2*cos(theta)**2 + r**2)), (0, 2*r - 2, 0), (0, (-a**2*sin(theta)**2*Derivative(Delta(r), r)/2 + 2*r*(a**2 + r**2))/sqrt(-a**2*Delta(r)*sin(theta)**2 + (a**2 + r**2)**2), -Delta*a**2*sin(theta)*cos(theta)/sqrt(-Delta*a**2*sin(theta)**2 + (a**2 + r**2)**2)), (0, sqrt(Delta(r))*Derivative(rho(r), r)/Sigma(r) - sqrt(Delta(r))*rho(r)*Derivative(Sigma(r), r)/Sigma(r)**2 + rho(r)*Derivative(Delta(r), r)/(2*sqrt(Delta(r))*Sigma(r)), sqrt(Delta)*Derivative(rho(theta), theta)/Sigma(theta) - sqrt(Delta)*rho(theta)*Derivative(Sigma(theta), theta)/Sigma(theta)**2), (-a, 2*r, 0), (-Delta*(-2*a + 2*b) + 2*P(b)*Derivative(P(b), b), -(q + (-a + b)**2)*Derivative(Delta(r), r), 0), (-2*b*cos(theta)**2/sin(theta)**2, 0, 2*b**2*cos(theta)**3/sin(theta)**3 + 2*(-a**2 + b**2/sin(theta)**2)*sin(theta)*cos(theta))]\n"
     ]
    }
   ],
   "source": [
    "class Observer:\n",
    "    def __init__(self, r, theta, phi, a, B_r, B_theta, B_phi):\n",
    "        self.r = r\n",
    "        self.theta = theta\n",
    "        self.phi = phi\n",
    "        self.a = a\n",
    "        self.metric_values = metric_values(r, theta, phi, a)\n",
    "\n",
    "        self.B_r = B_r \n",
    "        self.B_theta = B_theta\n",
    "        self.B_phi = B_phi\n",
    "\n",
    "        Omega = expr(\"1/(a+r**1.5)\")\n",
    "        beta = omega_bar/alpha*(Omega-omega)\n",
    "        self.beta = self.sub_values(beta)\n",
    "\n",
    "    def sub_values(self, expr):\n",
    "        return sub_metric_values(expr, self.metric_values)\n",
    "\n",
    "    def fido_ray(self, x, y, z):\n",
    "        # Normalize\n",
    "        L= sp.sqrt(x*x+y*y+z*z)\n",
    "        N_x = (x/L).evalf()\n",
    "        N_y = (y/L).evalf()\n",
    "        N_z = (z/L).evalf()\n",
    "\n",
    "        # Cartesian FIDO ray\n",
    "        _ = self.sub_values(1-self.beta*N_y)\n",
    "        n_Fy =  self.sub_values( (self.beta-N_y)/_ )\n",
    "        n_Fx =  self.sub_values( -N_x*sp.sqrt(1-self.beta**2)/_)\n",
    "        n_Fz =  self.sub_values( -N_z*sp.sqrt(1-self.beta**2)/_)\n",
    "\n",
    "        # Spherical FIDO ray \n",
    "        kappa = sp.sqrt(1-self.B_theta**2)\n",
    "        n_Fr    = self.B_phi/kappa*n_Fx + self.B_r*n_Fy+self.B_r*self.B_theta/kappa * n_Fz\n",
    "        n_Ftheta= self.B_theta*n_Fy - kappa*n_Fz\n",
    "        n_Fphi  = -self.B_r/kappa * n_Fx + self.B_phi*n_Fy + self.B_theta*self.B_phi/kappa*n_Fz\n",
    "\n",
    "        # Determine conjugate momentum \n",
    "        E_f = self.sub_values(1/(expr(\"alpha\")+expr(\"omega*omega_bar\")*n_Fphi))\n",
    "        p_t = -1 \n",
    "        p_r = self.sub_values(E_f*rho/sp.sqrt(Delta)*n_Fr)\n",
    "        p_theta = self.sub_values(E_f*rho*n_Ftheta)\n",
    "        p_phi = self.sub_values(E_f*omega_bar*n_Fphi)\n",
    "\n",
    "        # Constants of motion for photon\n",
    "        b = p_phi \n",
    "        q = self.sub_values(p_theta**2 +sp.cos(self.theta)**2*(b**2/sp.sin(self.theta)**2-self.a**2))\n",
    "\n",
    "        return Ray(self.r, self.theta, self.phi, p_r, p_theta, b, q, self.a)\n",
    "\n",
    "# Get the partial derivatives with respect to b, r, theta\n",
    "def partials(sym_b, sym_r=None, sym_theta=None):\n",
    "    if sym_r is None and sym_theta is None: \n",
    "        sym_r = sym_b \n",
    "        sym_theta = sym_b\n",
    "\n",
    "    return (\n",
    "        sym_b.diff(\"b\"),\n",
    "        sym_r.diff(\"r\"),\n",
    "        sym_theta.diff(\"theta\")\n",
    "    )\n",
    "\n",
    "\n",
    "\n",
    "# Expressions for partial derivatives\n",
    "partials_rho = partials(rho)\n",
    "partials_Delta = partials(Delta)\n",
    "partials_Sigma = partials(\n",
    "    Sigma,\n",
    "    Sigma.subs(\"Delta\", \"Delta(r)\"),\n",
    "    Sigma,\n",
    ")\n",
    "\n",
    "partials_alpha = partials(\n",
    "    alpha,\n",
    "    alpha.subs({\"rho\": \"rho(r)\",\"Delta\": \"Delta(r)\", \"Sigma\": \"Sigma(r)\"}),\n",
    "    alpha.subs({\"rho\": \"rho(theta)\", \"Sigma\": \"Sigma(theta)\"}),\n",
    ")\n",
    "\n",
    "partials_P = partials(P)\n",
    "partials_R = partials(\n",
    "    R.subs({\"P\": \"P(b)\"}),\n",
    "    R.subs({\"Delta\": \"Delta(r)\"}),\n",
    "    R,\n",
    ")\n",
    "partials_Theta = partials(\n",
    "    Theta\n",
    ")\n",
    "\n",
    "print([\n",
    "        partials_rho,\n",
    "    partials_Delta,\n",
    "    partials_Sigma,\n",
    "    partials_alpha,\n",
    "    partials_P,\n",
    "    partials_R,\n",
    "    partials_Theta,\n",
    "])\n",
    "\n",
    "class Ray:\n",
    "    def __init__(self, r, theta, phi, p_r, p_theta, b, q, a):\n",
    "        self.values  = metric_values(r, theta, phi, a)\n",
    "\n",
    "        self.values['p_r'] = p_r\n",
    "        self.values['p_theta'] = p_theta\n",
    "        self.values['b'] = b \n",
    "        self.values['q'] = q \n",
    "\n",
    "        self._calculate_values()\n",
    "\n",
    "    def _calculate_values(self):\n",
    "        self.values['P'] = self.eval(P)\n",
    "        self.values['R'] = self.eval(R)\n",
    "        self.values['Theta'] = self.eval(Theta)\n",
    "\n",
    "    def eval(self, expression):\n",
    "        return expression.subs(self.values).evalf()\n",
    "\n",
    "\n",
    "    # Restore functional form of the expressions produced by partial derivatives to their original form\n",
    "    def _replace_fns(self, expression):\n",
    "        for letter in [\n",
    "        'rho',\n",
    "        'Delta',\n",
    "        'Sigma',\n",
    "        'alpha',\n",
    "        'P',\n",
    "        'R',\n",
    "        'Theta',\n",
    "        ]:\n",
    "            x = sp.symbols(\"x\")\n",
    "            fn = sp.Function(letter)\n",
    "            expression=expression.replace(fn, sp.Lambda((x), letter))\n",
    "        return expression\n",
    "    \n",
    "    # Replace partial derivatives with their values\n",
    "    def _replace_partials(self, expression):\n",
    "        for (old, new) in self.partial_values.items(): \n",
    "            expression = expression.replace(old, new)\n",
    "        return expression\n",
    "\n",
    "    # Get the partial derivatives with respect to b, r, theta\n",
    "    def _partials(self, sym_b, sym_r=None, sym_theta=None):\n",
    "        if sym_r is None and sym_theta is None: \n",
    "            sym_r = sym_b \n",
    "            sym_theta = sym_b\n",
    "\n",
    "        return (\n",
    "            sym_b.diff(\"b\"),\n",
    "            sym_r.diff(\"r\"),\n",
    "            sym_theta.diff(\"theta\")\n",
    "        )\n",
    "\n",
    "    def _calculate_partials(self):\n",
    "        self.partial_values = {}\n",
    "\n",
    "        # Evaluate partial derivatives\n",
    "        for (letter, exprs) in [\n",
    "            ('rho', partials_rho),\n",
    "            ('Delta', partials_Delta),\n",
    "            ('Sigma', partials_Sigma),\n",
    "            ('alpha', partials_alpha),\n",
    "            ('P', partials_P),\n",
    "            ('R', partials_R),\n",
    "            ('Theta', partials_Theta)\n",
    "        ]:\n",
    "            for (x, expression) in zip(['b', 'r', 'theta'], exprs):\n",
    "                fn = sp.Function(letter)(x)\n",
    "                dfn = fn.diff(x)\n",
    "\n",
    "                expression= self._replace_partials(expression)\n",
    "                expression = self._replace_fns(expression)\n",
    "\n",
    "                self.partial_values[dfn] = self.eval(expression)\n",
    "    \n",
    "    def _eval_partial(self, expression):\n",
    "        expression = self._replace_partials(expression)\n",
    "        expression = self._replace_fns(expression)\n",
    "        expression = self.eval(expression)\n",
    "        return expression\n",
    "\n",
    "    def euler_step(self, h):\n",
    "        self._calculate_partials()\n",
    "        \n",
    "        deltas = ( \n",
    "            self.eval(d_r),\n",
    "            self.eval(d_theta),\n",
    "            self._eval_partial(d_phi),\n",
    "            self._eval_partial(d_p_r),\n",
    "            self._eval_partial(d_p_theta),\n",
    "        )   \n",
    "\n",
    "        ex =     expr(\"((p_r**2*(-a**2 - r**2 + 2*r) - p_theta**2)*(a**2 + r**2 - 2*r)*sin(theta)**2 + (q*sin(theta)**2 + (a**2*sin(theta)**2 - b**2)*cos(theta)**2)*(a**2 + r**2 - 2*r) + (-(q + (a - b)**2)*(a**2 + r**2 - 2*r) + (a**2 - a*b + r**2)**2)*sin(theta)**2)/(2*(a**2*cos(theta)**2 + r**2)*(a**2 + r**2 - 2*r)*sin(theta)**2)\")\n",
    "        \n",
    "    \n",
    "        print(deltas, self.eval(ex)        )\n",
    "\n",
    "\n",
    "        self.r = (self.r + deltas[0]).evalf()\n",
    "        self.theta = (self.theta + deltas[1]).evalf()\n",
    "        self.phi = (self.phi + deltas[2]).evalf()\n",
    "        self.p_r = (self.p_r + deltas[3]).evalf()\n",
    "        self.p_theta = (self.p_theta + deltas[4]).evalf()\n",
    "        self._update_values()\n",
    "\n",
    "    def __str__(self):\n",
    "        string = f\"=== RAY {id(self)} ===\\n\"\n",
    "        for (key, val) in self.values.items():\n",
    "            string += f\"\\t{key}: {val}\\n\"\n",
    "        return string\n",
    "\n",
    "    def _update_values(self):\n",
    "        self.values.update(metric_values(self.r, self.theta, self.phi, self.a))\n",
    "        self._calculate_values()\n",
    "\n",
    "\n",
    "    @property\n",
    "    def r(self):\n",
    "        return self.values['r']\n",
    "\n",
    "    @r.setter\n",
    "    def r(self, value):\n",
    "        self.values['r'] = value\n",
    "\n",
    "    @property\n",
    "    def theta(self):\n",
    "        return self.values['theta']\n",
    "\n",
    "    @theta.setter\n",
    "    def theta(self, value):\n",
    "        self.values['theta'] = value\n",
    "\n",
    "    @property\n",
    "    def phi(self):\n",
    "        return self.values['phi']\n",
    "\n",
    "    @phi.setter\n",
    "    def phi(self, value):\n",
    "        self.values['phi'] = value\n",
    "\n",
    "    @property\n",
    "    def p_r(self):\n",
    "        return self.values['p_r']\n",
    "\n",
    "    @p_r.setter\n",
    "    def p_r(self, value):\n",
    "        self.values['p_r'] = value\n",
    "\n",
    "    @property\n",
    "    def p_theta(self):\n",
    "        return self.values['p_theta']\n",
    "\n",
    "    @p_theta.setter\n",
    "    def p_theta(self, value):\n",
    "        self.values['p_theta'] = value\n",
    "\n",
    "    @property \n",
    "    def a(self):\n",
    "        return self.values['a']"
   ]
  },
  {
   "cell_type": "code",
   "execution_count": 97,
   "metadata": {},
   "outputs": [
    {
     "name": "stdout",
     "output_type": "stream",
     "text": [
      "-0.0204060383003680 3.04105330486687e-16\n"
     ]
    }
   ],
   "source": [
    "# observer = Observer(4, sp.pi/2, 0, 0.999, 0.0, 0.0, 1.0)\n",
    "\n",
    "observer = Observer(100.0, sp.pi / 2, 0, 0.0, 0.0, 0.0, 1.0)\n",
    "\n",
    "\n",
    "# for theta in np.linspace(-pi / 2, pi / 2, 3, endpoint=False):\n",
    "#     for phi in np.linspace(0, 2 * pi, 6, endpoint=False):\n",
    "# x, y, z = 1.0, 0.0, 0.0\n",
    "\n",
    "ray = observer.fido_ray(-1, 0, 0)\n",
    "ray.euler_step(1)"
   ]
  },
  {
   "cell_type": "code",
   "execution_count": 98,
   "metadata": {},
   "outputs": [
    {
     "name": "stdout",
     "output_type": "stream",
     "text": [
      "0\n",
      "-0.0201989503824878 0.0199996519724354\n",
      "1\n",
      "-0.0200000240402281 0.0394040350945040\n",
      "2\n",
      "-0.0198088652630450 0.0582322245328884\n",
      "3\n",
      "-0.0196251069518490 0.0765022442645578\n",
      "4\n",
      "-0.0194484066986254 0.0942311382880650\n",
      "5\n",
      "-0.0192784447844777 0.111435035814580\n",
      "6\n",
      "-0.0191149223714703 0.128129211033361\n",
      "7\n",
      "-0.0189575598667712 0.144328137978939\n",
      "8\n",
      "-0.0188060954402857 0.160045540968435\n",
      "9\n",
      "-0.0186602836792829 0.175294441025944\n"
     ]
    }
   ],
   "source": [
    "data = (\n",
    "    [],[],[]\n",
    ")\n",
    "\n",
    "for i in range(10):\n",
    "    print(i)\n",
    "    ray.euler_step(-0.5)\n",
    "    _r=ray.r\n",
    "    _theta=ray.theta\n",
    "    _phi=ray.phi\n",
    "    data[0].append(0.01*(sp.sqrt(_r**2+ray.a**2)*sp.sin(_theta)*sp.cos(_phi)).evalf())\n",
    "    data[1].append(0.01*(sp.sqrt(_r**2+ray.a**2)*sp.sin(_theta)*sp.sin(_phi)).evalf())\n",
    "    data[2].append(0.01*(_r*sp.cos(_theta)).evalf())\n"
   ]
  },
  {
   "cell_type": "code",
   "execution_count": null,
   "metadata": {},
   "outputs": [
    {
     "name": "stdout",
     "output_type": "stream",
     "text": [
      "([1.01969759619059, 1.02924972539307, 1.03860654400872, 1.04776981645858, 1.05674124124893, 1.06552245386469, 1.07411502947963, 1.08252048549728, 1.09074028393510, 1.09877583366350], [0.00206061951785578, 0.00308999590336989, 0.00411851250646007, 0.00514599890578314, 0.00617229039295985, 0.00719722761328407, 0.00822065623144841, 0.00924242662013355, 0.0102623935695193, 0.0112804160159627], [6.24385973532182e-17, 6.30236531036841e-17, 6.35968089949036e-17, 6.41581713860095e-17, 6.47078426823550e-17, 6.52459215070804e-17, 6.57725028619380e-17, 6.62876782781782e-17, 6.67915359582262e-17, 6.72841609088183e-17])\n"
     ]
    }
   ],
   "source": [
    "print(data)"
   ]
  },
  {
   "cell_type": "code",
   "execution_count": null,
   "metadata": {},
   "outputs": [
    {
     "data": {
      "text/plain": [
       "[<matplotlib.lines.Line2D at 0x7fce915ca810>]"
      ]
     },
     "execution_count": 79,
     "metadata": {},
     "output_type": "execute_result"
    },
    {
     "data": {
      "application/vnd.jupyter.widget-view+json": {
       "model_id": "39534fb754bc4b63b03c828c29c3ad5e",
       "version_major": 2,
       "version_minor": 0
      },
      "image/png": "[encoded data removed]",
      "text/html": [
       "\n",
       "            <div style=\"display: inline-block;\">\n",
       "                <div class=\"jupyter-widgets widget-label\" style=\"text-align: center;\">\n",
       "                    Figure 21\n",
       "                </div>\n",
       "                <img src='data:image/png;base64,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' width=640.0/>\n",
       "            </div>\n",
       "        "
      ],
      "text/plain": [
       "Canvas(toolbar=Toolbar(toolitems=[('Home', 'Reset original view', 'home', 'home'), ('Back', 'Back to previous …"
      ]
     },
     "metadata": {},
     "output_type": "display_data"
    }
   ],
   "source": [
    "%matplotlib widget\n",
    " # importing required libraries\n",
    "from mpl_toolkits.mplot3d import Axes3D\n",
    "import matplotlib.pyplot as plt\n",
    "\n",
    "x = data[0]\n",
    "y = data[1]\n",
    "z = data[2]\n",
    "\n",
    " \n",
    "# creating the plot\n",
    "plt.plot(x, y, color='green')\n",
    "plt.show()\n",
    " "
   ]
  },
  {
   "attachments": {},
   "cell_type": "markdown",
   "metadata": {},
   "source": []
  }
 ],
 "metadata": {
  "kernelspec": {
   "display_name": "Python 3",
   "language": "python",
   "name": "python3"
  },
  "language_info": {
   "codemirror_mode": {
    "name": "ipython",
    "version": 3
   },
   "file_extension": ".py",
   "mimetype": "text/x-python",
   "name": "python",
   "nbconvert_exporter": "python",
   "pygments_lexer": "ipython3",
   "version": "3.11.3"
  },
  "orig_nbformat": 4
 },
 "nbformat": 4,
 "nbformat_minor": 2
}
