{
 "cells": [
  {
   "cell_type": "code",
   "execution_count": 1,
   "metadata": {},
   "outputs": [],
   "source": [
    "import sympy as sp\n",
    "from sympy.parsing.sympy_parser import parse_expr as expr\n",
    "from IPython.core.interactiveshell import InteractiveShell\n",
    "InteractiveShell.ast_node_interactivity = 'all'"
   ]
  },
  {
   "cell_type": "code",
   "execution_count": 2,
   "metadata": {},
   "outputs": [],
   "source": [
    "rho = expr(\"sqrt(r**2 + a**2*cos(theta)**2)\")\n",
    "Delta = expr(\"r**2 -2*r+a**2\")\n",
    "Sigma = expr(\"sqrt((r**2+a**2)**2 -a**2*Delta*sin(theta)**2)\")\n",
    "alpha = expr(\"rho*sqrt(Delta)/Sigma\")\n",
    "omega = expr(\"2* a*r/Sigma**2\")\n",
    "omega_bar = expr(\"Sigma*sin(theta)/rho\")\n",
    "\n",
    "P = expr(\"r**2 + a**2 - a*b\")\n",
    "R = expr(\"P**2 - Delta*((b-a)**2+q)\")\n",
    "Theta = expr(\"q-cos(theta)**2* (b**2/sin(theta)**2-a**2)\")\n",
    "\n",
    "d_r = expr(\"Delta/rho**2*p_r\")\n",
    "d_theta = expr(\"1/rho**2*p_theta\")\n",
    "\n",
    "d_phi = -expr(\"(R(b)+Delta*Theta(b))/(2*Delta*rho**2)\").diff(\"b\")\n",
    "d_p_r     = sp.diff(expr(\"-Delta(r)/(2*rho(r)**2)*p_r**2-1/(2*rho(r)**2)*p_theta**2+((R+Delta(r)*Theta)/(2*Delta(r)*rho(r)**2))\"),\"r\")\n",
    "d_p_theta = sp.diff(expr(\"-Delta/(2*rho(theta)**2)*p_r**2-1/(2*rho(theta)**2)*p_theta**2+((R(theta)+Delta(theta)*Theta(theta))/(2*Delta*rho(theta)**2))\"),\"theta\")"
   ]
  },
  {
   "cell_type": "code",
   "execution_count": 3,
   "metadata": {},
   "outputs": [
    {
     "data": {
      "text/latex": [
       "$\\displaystyle \\sqrt{a^{2} \\cos^{2}{\\left(\\theta \\right)} + r^{2}}$"
      ],
      "text/plain": [
       "sqrt(a**2*cos(theta)**2 + r**2)"
      ]
     },
     "metadata": {},
     "output_type": "display_data"
    },
    {
     "data": {
      "text/latex": [
       "$\\displaystyle a^{2} + r^{2} - 2 r$"
      ],
      "text/plain": [
       "a**2 + r**2 - 2*r"
      ]
     },
     "metadata": {},
     "output_type": "display_data"
    },
    {
     "data": {
      "text/latex": [
       "$\\displaystyle \\sqrt{- \\Delta a^{2} \\sin^{2}{\\left(\\theta \\right)} + \\left(a^{2} + r^{2}\\right)^{2}}$"
      ],
      "text/plain": [
       "sqrt(-Delta*a**2*sin(theta)**2 + (a**2 + r**2)**2)"
      ]
     },
     "metadata": {},
     "output_type": "display_data"
    },
    {
     "data": {
      "text/latex": [
       "$\\displaystyle \\frac{\\sqrt{\\Delta} \\rho}{\\Sigma}$"
      ],
      "text/plain": [
       "sqrt(Delta)*rho/Sigma"
      ]
     },
     "metadata": {},
     "output_type": "display_data"
    },
    {
     "data": {
      "text/latex": [
       "$\\displaystyle \\frac{2 a r}{\\Sigma^{2}}$"
      ],
      "text/plain": [
       "2*a*r/Sigma**2"
      ]
     },
     "metadata": {},
     "output_type": "display_data"
    },
    {
     "data": {
      "text/latex": [
       "$\\displaystyle \\frac{\\Sigma \\sin{\\left(\\theta \\right)}}{\\rho}$"
      ],
      "text/plain": [
       "Sigma*sin(theta)/rho"
      ]
     },
     "metadata": {},
     "output_type": "display_data"
    }
   ],
   "source": [
    "display(rho, Delta, Sigma, alpha, omega, omega_bar)"
   ]
  },
  {
   "cell_type": "code",
   "execution_count": 4,
   "metadata": {},
   "outputs": [
    {
     "data": {
      "text/latex": [
       "$\\displaystyle a^{2} - a b + r^{2}$"
      ],
      "text/plain": [
       "a**2 - a*b + r**2"
      ]
     },
     "metadata": {},
     "output_type": "display_data"
    },
    {
     "data": {
      "text/latex": [
       "$\\displaystyle - \\Delta \\left(q + \\left(- a + b\\right)^{2}\\right) + P^{2}$"
      ],
      "text/plain": [
       "-Delta*(q + (-a + b)**2) + P**2"
      ]
     },
     "metadata": {},
     "output_type": "display_data"
    },
    {
     "data": {
      "text/latex": [
       "$\\displaystyle q - \\left(- a^{2} + \\frac{b^{2}}{\\sin^{2}{\\left(\\theta \\right)}}\\right) \\cos^{2}{\\left(\\theta \\right)}$"
      ],
      "text/plain": [
       "q - (-a**2 + b**2/sin(theta)**2)*cos(theta)**2"
      ]
     },
     "metadata": {},
     "output_type": "display_data"
    }
   ],
   "source": [
    "display(P, R, Theta)"
   ]
  },
  {
   "cell_type": "code",
   "execution_count": 5,
   "metadata": {},
   "outputs": [],
   "source": [
    "def metric_values(r, theta, phi, a):\n",
    "    rho_v = rho.subs({\"r\": r, \"a\": a, \"theta\": theta}).evalf()\n",
    "    Delta_v = Delta.subs({\"r\": r, \"a\": a}).evalf()\n",
    "    Sigma_v = Sigma.subs({\"r\": r, \"a\": a, \"theta\": theta, \"Delta\": Delta_v}).evalf()\n",
    "    alpha_v = alpha.subs({\"rho\": rho_v, \"Delta\": Delta_v, \"Sigma\": Sigma_v}).evalf()\n",
    "    omega_v = omega.subs({\"a\": a, \"r\": r, \"Sigma\": Sigma_v}).evalf()\n",
    "    omega_bar_v = omega_bar.subs({\"a\": a, \"r\": r, \"Sigma\": Sigma_v, \"theta\": theta, \"rho\": rho_v}).evalf()\n",
    "\n",
    "    return {\n",
    "        \"r\": r,\n",
    "        \"theta\": theta,\n",
    "        \"phi\": phi,\n",
    "        \"a\": a,\n",
    "        \"rho\": rho_v,\n",
    "        \"Delta\": Delta_v,\n",
    "        \"Sigma\": Sigma_v,\n",
    "        \"alpha\": alpha_v,\n",
    "        \"omega\": omega_v,\n",
    "        \"omega_bar\": omega_bar_v,\n",
    "    }\n",
    "\n",
    "def sub_metric_values(expr, values):\n",
    "    return expr.subs(values).evalf()"
   ]
  },
  {
   "cell_type": "code",
   "execution_count": 6,
   "metadata": {},
   "outputs": [
    {
     "name": "stdout",
     "output_type": "stream",
     "text": [
      "[(0, r/sqrt(a**2*cos(theta)**2 + r**2), -a**2*sin(theta)*cos(theta)/sqrt(a**2*cos(theta)**2 + r**2)), (0, 2*r - 2, 0), (0, (-a**2*sin(theta)**2*Derivative(Delta(r), r)/2 + 2*r*(a**2 + r**2))/sqrt(-a**2*Delta(r)*sin(theta)**2 + (a**2 + r**2)**2), -Delta*a**2*sin(theta)*cos(theta)/sqrt(-Delta*a**2*sin(theta)**2 + (a**2 + r**2)**2)), (0, sqrt(Delta(r))*Derivative(rho(r), r)/Sigma(r) - sqrt(Delta(r))*rho(r)*Derivative(Sigma(r), r)/Sigma(r)**2 + rho(r)*Derivative(Delta(r), r)/(2*sqrt(Delta(r))*Sigma(r)), sqrt(Delta)*Derivative(rho(theta), theta)/Sigma(theta) - sqrt(Delta)*rho(theta)*Derivative(Sigma(theta), theta)/Sigma(theta)**2), (-a, 2*r, 0), (-Delta*(-2*a + 2*b) + 2*P(b)*Derivative(P(b), b), -(q + (-a + b)**2)*Derivative(Delta(r), r), 0), (-2*b*cos(theta)**2/sin(theta)**2, 0, 2*b**2*cos(theta)**3/sin(theta)**3 + 2*(-a**2 + b**2/sin(theta)**2)*sin(theta)*cos(theta))]\n"
     ]
    }
   ],
   "source": [
    "class Observer:\n",
    "    def __init__(self, r, theta, phi, a, B_r, B_theta, B_phi):\n",
    "        self.r = r\n",
    "        self.theta = theta\n",
    "        self.phi = phi\n",
    "        self.a = a\n",
    "        self.metric_values = metric_values(r, theta, phi, a)\n",
    "\n",
    "        self.B_r = B_r \n",
    "        self.B_theta = B_theta\n",
    "        self.B_phi = B_phi\n",
    "\n",
    "        Omega = expr(\"1/(a+r**1.5)\")\n",
    "        beta = omega_bar/alpha*(Omega-omega)\n",
    "        self.beta = self.sub_values(beta)\n",
    "\n",
    "    def sub_values(self, expr):\n",
    "        return sub_metric_values(expr, self.metric_values)\n",
    "\n",
    "    def fido_ray(self, x, y, z):\n",
    "        # Normalize\n",
    "        L= sp.sqrt(x*x+y*y+z*z)\n",
    "        N_x = (x/L).evalf()\n",
    "        N_y = (y/L).evalf()\n",
    "        N_z = (z/L).evalf()\n",
    "\n",
    "        # Cartesian FIDO ray\n",
    "        _ = self.sub_values(1-self.beta*N_y)\n",
    "        n_Fy =  self.sub_values( (self.beta-N_y)/_ )\n",
    "        n_Fx =  self.sub_values( -N_x*sp.sqrt(1-self.beta**2)/_)\n",
    "        n_Fz =  self.sub_values( -N_z*sp.sqrt(1-self.beta**2)/_)\n",
    "\n",
    "        # Spherical FIDO ray \n",
    "        kappa = sp.sqrt(1-self.B_theta**2)\n",
    "        n_Fr    = self.B_phi/kappa*n_Fx + self.B_r*n_Fy+self.B_r*self.B_theta/kappa * n_Fz\n",
    "        n_Ftheta= self.B_theta*n_Fy - kappa*n_Fz\n",
    "        n_Fphi  = -self.B_r/kappa * n_Fx + self.B_phi*n_Fy + self.B_theta*self.B_phi/kappa*n_Fz\n",
    "\n",
    "        # Determine conjugate momentum \n",
    "        E_f = self.sub_values(1/(expr(\"alpha\")+expr(\"omega*omega_bar\")*n_Fphi))\n",
    "        p_t = -1 \n",
    "        p_r = self.sub_values(E_f*rho/sp.sqrt(Delta)*n_Fr)\n",
    "        p_theta = self.sub_values(E_f*rho*n_Ftheta)\n",
    "        p_phi = self.sub_values(E_f*omega_bar*n_Fphi)\n",
    "\n",
    "        # Constants of motion for photon\n",
    "        b = p_phi \n",
    "        q = self.sub_values(p_theta**2 +sp.cos(self.theta)**2*(b**2/sp.sin(self.theta)**2-self.a**2))\n",
    "\n",
    "        return Ray(self.r, self.theta, self.phi, p_r, p_theta, b, q, self.a)\n",
    "\n",
    "# Get the partial derivatives with respect to b, r, theta\n",
    "def partials(sym_b, sym_r=None, sym_theta=None):\n",
    "    if sym_r is None and sym_theta is None: \n",
    "        sym_r = sym_b \n",
    "        sym_theta = sym_b\n",
    "\n",
    "    return (\n",
    "        sym_b.diff(\"b\"),\n",
    "        sym_r.diff(\"r\"),\n",
    "        sym_theta.diff(\"theta\")\n",
    "    )\n",
    "\n",
    "\n",
    "\n",
    "# Expressions for partial derivatives\n",
    "partials_rho = partials(rho)\n",
    "partials_Delta = partials(Delta)\n",
    "partials_Sigma = partials(\n",
    "    Sigma,\n",
    "    Sigma.subs(\"Delta\", \"Delta(r)\"),\n",
    "    Sigma,\n",
    ")\n",
    "\n",
    "partials_alpha = partials(\n",
    "    alpha,\n",
    "    alpha.subs({\"rho\": \"rho(r)\",\"Delta\": \"Delta(r)\", \"Sigma\": \"Sigma(r)\"}),\n",
    "    alpha.subs({\"rho\": \"rho(theta)\", \"Sigma\": \"Sigma(theta)\"}),\n",
    ")\n",
    "\n",
    "partials_P = partials(P)\n",
    "partials_R = partials(\n",
    "    R.subs({\"P\": \"P(b)\"}),\n",
    "    R.subs({\"Delta\": \"Delta(r)\"}),\n",
    "    R,\n",
    ")\n",
    "partials_Theta = partials(\n",
    "    Theta\n",
    ")\n",
    "\n",
    "print([\n",
    "        partials_rho,\n",
    "    partials_Delta,\n",
    "    partials_Sigma,\n",
    "    partials_alpha,\n",
    "    partials_P,\n",
    "    partials_R,\n",
    "    partials_Theta,\n",
    "])\n",
    "\n",
    "class Ray:\n",
    "    def __init__(self, r, theta, phi, p_r, p_theta, b, q, a):\n",
    "        self.values  = metric_values(r, theta, phi, a)\n",
    "\n",
    "        self.values['p_r'] = p_r\n",
    "        self.values['p_theta'] = p_theta\n",
    "        self.values['b'] = b \n",
    "        self.values['q'] = q \n",
    "\n",
    "        self._calculate_values()\n",
    "\n",
    "    def _calculate_values(self):\n",
    "        self.values['P'] = self.eval(P)\n",
    "        self.values['R'] = self.eval(R)\n",
    "        self.values['Theta'] = self.eval(Theta)\n",
    "\n",
    "    def eval(self, expression):\n",
    "        return expression.subs(self.values).evalf()\n",
    "\n",
    "\n",
    "    # Restore functional form of the expressions produced by partial derivatives to their original form\n",
    "    def _replace_fns(self, expression):\n",
    "        for letter in [\n",
    "        'rho',\n",
    "        'Delta',\n",
    "        'Sigma',\n",
    "        'alpha',\n",
    "        'P',\n",
    "        'R',\n",
    "        'Theta',\n",
    "        ]:\n",
    "            x = sp.symbols(\"x\")\n",
    "            fn = sp.Function(letter)\n",
    "            expression=expression.replace(fn, sp.Lambda((x), letter))\n",
    "        return expression\n",
    "    \n",
    "    # Replace partial derivatives with their values\n",
    "    def _replace_partials(self, expression):\n",
    "        for (old, new) in self.partial_values.items(): \n",
    "            expression = expression.replace(old, new)\n",
    "        return expression\n",
    "\n",
    "    # Get the partial derivatives with respect to b, r, theta\n",
    "    def _partials(self, sym_b, sym_r=None, sym_theta=None):\n",
    "        if sym_r is None and sym_theta is None: \n",
    "            sym_r = sym_b \n",
    "            sym_theta = sym_b\n",
    "\n",
    "        return (\n",
    "            sym_b.diff(\"b\"),\n",
    "            sym_r.diff(\"r\"),\n",
    "            sym_theta.diff(\"theta\")\n",
    "        )\n",
    "\n",
    "    def _calculate_partials(self):\n",
    "        self.partial_values = {}\n",
    "\n",
    "        # Evaluate partial derivatives\n",
    "        for (letter, exprs) in [\n",
    "            ('rho', partials_rho),\n",
    "            ('Delta', partials_Delta),\n",
    "            ('Sigma', partials_Sigma),\n",
    "            ('alpha', partials_alpha),\n",
    "            ('P', partials_P),\n",
    "            ('R', partials_R),\n",
    "            ('Theta', partials_Theta)\n",
    "        ]:\n",
    "            for (x, expression) in zip(['b', 'r', 'theta'], exprs):\n",
    "                fn = sp.Function(letter)(x)\n",
    "                dfn = fn.diff(x)\n",
    "\n",
    "                expression= self._replace_partials(expression)\n",
    "                expression = self._replace_fns(expression)\n",
    "\n",
    "                self.partial_values[dfn] = self.eval(expression)\n",
    "    \n",
    "    def _eval_partial(self, expression):\n",
    "        expression = self._replace_partials(expression)\n",
    "        expression = self._replace_fns(expression)\n",
    "        expression = self.eval(expression)\n",
    "        return expression\n",
    "\n",
    "    def euler_step(self, h):\n",
    "        self._calculate_partials()\n",
    "        \n",
    "        deltas = ( \n",
    "            self.eval(d_r),\n",
    "            self.eval(d_theta),\n",
    "            self._eval_partial(d_phi),\n",
    "            self._eval_partial(d_p_r),\n",
    "            self._eval_partial(d_p_theta),\n",
    "        )   \n",
    "\n",
    "        ex =     expr(\"((p_r**2*(-a**2 - r**2 + 2*r) - p_theta**2)*(a**2 + r**2 - 2*r)*sin(theta)**2 + (q*sin(theta)**2 + (a**2*sin(theta)**2 - b**2)*cos(theta)**2)*(a**2 + r**2 - 2*r) + (-(q + (a - b)**2)*(a**2 + r**2 - 2*r) + (a**2 - a*b + r**2)**2)*sin(theta)**2)/(2*(a**2*cos(theta)**2 + r**2)*(a**2 + r**2 - 2*r)*sin(theta)**2)\")\n",
    "        \n",
    "    \n",
    "        print(deltas, self.eval(ex)        )\n",
    "\n",
    "\n",
    "        self.r = (self.r + deltas[0]).evalf()\n",
    "        self.theta = (self.theta + deltas[1]).evalf()\n",
    "        self.phi = (self.phi + deltas[2]).evalf()\n",
    "        self.p_r = (self.p_r + deltas[3]).evalf()\n",
    "        self.p_theta = (self.p_theta + deltas[4]).evalf()\n",
    "        self._update_values()\n",
    "\n",
    "    def __str__(self):\n",
    "        string = f\"=== RAY {id(self)} ===\\n\"\n",
    "        for (key, val) in self.values.items():\n",
    "            string += f\"\\t{key}: {val}\\n\"\n",
    "        return string\n",
    "\n",
    "    def _update_values(self):\n",
    "        self.values.update(metric_values(self.r, self.theta, self.phi, self.a))\n",
    "        self._calculate_values()\n",
    "\n",
    "\n",
    "    @property\n",
    "    def r(self):\n",
    "        return self.values['r']\n",
    "\n",
    "    @r.setter\n",
    "    def r(self, value):\n",
    "        self.values['r'] = value\n",
    "\n",
    "    @property\n",
    "    def theta(self):\n",
    "        return self.values['theta']\n",
    "\n",
    "    @theta.setter\n",
    "    def theta(self, value):\n",
    "        self.values['theta'] = value\n",
    "\n",
    "    @property\n",
    "    def phi(self):\n",
    "        return self.values['phi']\n",
    "\n",
    "    @phi.setter\n",
    "    def phi(self, value):\n",
    "        self.values['phi'] = value\n",
    "\n",
    "    @property\n",
    "    def p_r(self):\n",
    "        return self.values['p_r']\n",
    "\n",
    "    @p_r.setter\n",
    "    def p_r(self, value):\n",
    "        self.values['p_r'] = value\n",
    "\n",
    "    @property\n",
    "    def p_theta(self):\n",
    "        return self.values['p_theta']\n",
    "\n",
    "    @p_theta.setter\n",
    "    def p_theta(self, value):\n",
    "        self.values['p_theta'] = value\n",
    "\n",
    "    @property \n",
    "    def a(self):\n",
    "        return self.values['a']"
   ]
  },
  {
   "cell_type": "code",
   "execution_count": 7,
   "metadata": {},
   "outputs": [
    {
     "name": "stdout",
     "output_type": "stream",
     "text": [
      "(0.994884876941723, 0, 0.00102040816326531, -0.0204060383003680, 0) 3.04105330486687e-16\n"
     ]
    }
   ],
   "source": [
    "# observer = Observer(4, sp.pi/2, 0, 0.999, 0.0, 0.0, 1.0)\n",
    "\n",
    "observer = Observer(1.0, sp.pi / 2, 0, 0.0, 0.0, 0.0, 1.0)\n",
    "\n",
    "\n",
    "# for theta in np.linspace(-pi / 2, pi / 2, 3, endpoint=False):\n",
    "#     for phi in np.linspace(0, 2 * pi, 6, endpoint=False):\n",
    "# x, y, z = 1.0, 0.0, 0.0\n",
    "\n",
    "ray = observer.fido_ray(-1, 0, 0)\n",
    "ray.euler_step(1)"
   ]
  },
  {
   "cell_type": "code",
   "execution_count": 8,
   "metadata": {},
   "outputs": [
    {
     "name": "stdout",
     "output_type": "stream",
     "text": [
      "0\n",
      "(0.975082948377966, 0, 0.00100040341909328, -0.0201989503824878, 6.25071859718700e-19) 0.0199996519724354\n",
      "1\n",
      "(0.955468549582303, 6.01153504439343e-23, 0.000981362276621299, -0.0200000240402281, 6.13174576973588e-19) 0.0394040350945040\n",
      "2\n",
      "(0.936034604619901, 1.16885772908875e-22, 0.000963226651105079, -0.0198088652630450, 6.01843079147581e-19) 0.0582322245328884\n",
      "3\n",
      "(0.916774357303263, 1.70580747243174e-22, 0.000945943039642742, -0.0196251069518490, 5.91043936568471e-19) 0.0765022442645578\n",
      "4\n",
      "(0.897681350619914, 2.21445345650082e-22, 0.000929462091826366, -0.0194484066986254, 5.80746314124471e-19) 0.0942311382880650\n",
      "5\n",
      "(0.878749407747594, 2.69702828503987e-22, 0.000913738227266693, -0.0192784447844777, 5.70921732286088e-19) 0.111435035814580\n",
      "6\n",
      "(0.859972614511077, 3.15556928904199e-22, 0.000898729294198752, -0.0191149223714703, 5.61543853796154e-19) 0.128129211033361\n",
      "7\n",
      "(0.841345303150046, 3.59193867635182e-22, 0.000884396264173553, -0.0189575598667712, 5.52588292907153e-19) 0.144328137978939\n",
      "8\n",
      "(0.822862037280942, 4.00784134069593e-22, 0.000870702958517867, -0.0188060954402857, 5.44032444467876e-19) 0.160045540968435\n",
      "9\n",
      "(0.804517597947615, 4.40484063400382e-22, 0.000857615802820188, -0.0186602836792829, 5.35855330521393e-19) 0.175294441025944\n"
     ]
    }
   ],
   "source": [
    "data = (\n",
    "    [],[],[]\n",
    ")\n",
    "\n",
    "for i in range(10):\n",
    "    print(i)\n",
    "    ray.euler_step(-0.5)\n",
    "    _r=ray.r\n",
    "    _theta=ray.theta\n",
    "    _phi=ray.phi\n",
    "    data[0].append((sp.sqrt(_r**2+ray.a**2)*sp.sin(_theta)*sp.cos(_phi)).evalf())\n",
    "    data[1].append((sp.sqrt(_r**2+ray.a**2)*sp.sin(_theta)*sp.sin(_phi)).evalf())\n",
    "    data[2].append((_r*sp.cos(_theta)).evalf())\n"
   ]
  },
  {
   "cell_type": "code",
   "execution_count": 9,
   "metadata": {},
   "outputs": [
    {
     "name": "stdout",
     "output_type": "stream",
     "text": [
      "([1.01969759619059, 1.02924972539307, 1.03860654400872, 1.04776981645858, 1.05674124124893, 1.06552245386469, 1.07411502947963, 1.08252048549728, 1.09074028393510, 1.09877583366350], [0.00206061951785578, 0.00308999590336989, 0.00411851250646007, 0.00514599890578314, 0.00617229039295985, 0.00719722761328407, 0.00822065623144841, 0.00924242662013355, 0.0102623935695193, 0.0112804160159627], [6.24385973532182e-17, 6.30236531036841e-17, 6.35968089949036e-17, 6.41581713860095e-17, 6.47078426823550e-17, 6.52459215070804e-17, 6.57725028619380e-17, 6.62876782781782e-17, 6.67915359582262e-17, 6.72841609088183e-17])\n"
     ]
    }
   ],
   "source": [
    "print(data)"
   ]
  },
  {
   "cell_type": "code",
   "execution_count": 10,
   "metadata": {},
   "outputs": [
    {
     "data": {
      "text/plain": [
       "[<matplotlib.lines.Line2D at 0x7fc079776b50>]"
      ]
     },
     "execution_count": 10,
     "metadata": {},
     "output_type": "execute_result"
    },
    {
     "data": {
      "application/vnd.jupyter.widget-view+json": {
       "model_id": "a8b5014542aa40c98eb777682ce94dd3",
       "version_major": 2,
       "version_minor": 0
      },
      "image/png": "[encoded data removed]",
      "text/html": [
       "\n",
       "            <div style=\"display: inline-block;\">\n",
       "                <div class=\"jupyter-widgets widget-label\" style=\"text-align: center;\">\n",
       "                    Figure\n",
       "                </div>\n",
       "                <img src='data:image/png;base64,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' width=640.0/>\n",
       "            </div>\n",
       "        "
      ],
      "text/plain": [
       "Canvas(toolbar=Toolbar(toolitems=[('Home', 'Reset original view', 'home', 'home'), ('Back', 'Back to previous …"
      ]
     },
     "metadata": {},
     "output_type": "display_data"
    }
   ],
   "source": [
    "%matplotlib widget\n",
    " # importing required libraries\n",
    "from mpl_toolkits.mplot3d import Axes3D\n",
    "import matplotlib.pyplot as plt\n",
    "\n",
    "x = data[0]\n",
    "y = data[1]\n",
    "z = data[2]\n",
    "\n",
    " \n",
    "# creating the plot\n",
    "plt.plot(x, y, color='green')\n",
    "plt.show()\n",
    " "
   ]
  },
  {
   "attachments": {},
   "cell_type": "markdown",
   "metadata": {},
   "source": []
  }
 ],
 "metadata": {
  "kernelspec": {
   "display_name": "Python 3",
   "language": "python",
   "name": "python3"
  },
  "language_info": {
   "codemirror_mode": {
    "name": "ipython",
    "version": 3
   },
   "file_extension": ".py",
   "mimetype": "text/x-python",
   "name": "python",
   "nbconvert_exporter": "python",
   "pygments_lexer": "ipython3",
   "version": "3.11.3"
  },
  "orig_nbformat": 4
 },
 "nbformat": 4,
 "nbformat_minor": 2
}
