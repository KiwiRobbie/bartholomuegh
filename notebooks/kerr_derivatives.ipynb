{
 "cells": [
  {
   "cell_type": "code",
   "execution_count": 80,
   "metadata": {},
   "outputs": [],
   "source": [
    "import sympy as sp\n",
    "from sympy.parsing.sympy_parser import parse_expr as expr\n",
    "from IPython.core.interactiveshell import InteractiveShell\n",
    "InteractiveShell.ast_node_interactivity = 'all'"
   ]
  },
  {
   "cell_type": "code",
   "execution_count": 81,
   "metadata": {},
   "outputs": [],
   "source": [
    "rho = expr(\"sqrt(r**2 + a**2*cos(theta)**2)\")\n",
    "Delta = expr(\"r**2 -2*r+a**2\")\n",
    "Sigma = expr(\"sqrt((r**2+a**2)**2 -a**2*Delta*sin(theta)**2)\")\n",
    "alpha = expr(\"rho*sqrt(Delta)/Sigma\")\n",
    "omega = expr(\"2* a*r/Sigma**2\")\n",
    "omega_bar = expr(\"Sigma*sin(theta)/rho\")\n",
    "\n",
    "P = expr(\"r**2 + a**2 - a*b\")\n",
    "R = expr(\"P**2 - Delta*((b-a)**2+q)\")\n",
    "Theta = expr(\"q-cos(theta)**2* (b**2/sin(theta)**2-a**2)\")"
   ]
  },
  {
   "cell_type": "code",
   "execution_count": 82,
   "metadata": {},
   "outputs": [],
   "source": [
    "def metric_values(r, theta, phi, a):\n",
    "    rho_v = rho.subs({\"r\": r, \"a\": a, \"theta\": theta}).evalf()\n",
    "    Delta_v = Delta.subs({\"r\": r, \"a\": a}).evalf()\n",
    "    Sigma_v = Sigma.subs({\"r\": r, \"a\": a, \"theta\": theta, \"Delta\": Delta_v}).evalf()\n",
    "    alpha_v = alpha.subs({\"rho\": rho_v, \"Delta\": Delta_v, \"Sigma\": Sigma_v}).evalf()\n",
    "    omega_v = omega.subs({\"a\": a, \"r\": r, \"Sigma\": Sigma_v}).evalf()\n",
    "    omega_bar_v = omega_bar.subs({\"a\": a, \"r\": r, \"Sigma\": Sigma_v, \"theta\": theta, \"rho\": rho_v}).evalf()\n",
    "\n",
    "    return {\n",
    "        \"r\": r,\n",
    "        \"theta\": theta,\n",
    "        \"phi\": phi,\n",
    "        \"a\": a,\n",
    "        \"rho\": rho_v,\n",
    "        \"Delta\": Delta_v,\n",
    "        \"Sigma\": Sigma_v,\n",
    "        \"alpha\": alpha_v,\n",
    "        \"omega\": omega_v,\n",
    "        \"omega_bar\": omega_bar_v,\n",
    "    }\n",
    "\n",
    "def sub_metric_values(expr, values):\n",
    "    return expr.subs(values).evalf()"
   ]
  },
  {
   "cell_type": "code",
   "execution_count": 83,
   "metadata": {},
   "outputs": [],
   "source": [
    "r_c = 4\n",
    "theta_c = sp.pi/2\n",
    "phi_c = 0\n",
    "a = 0.999 \n",
    "\n",
    "\n",
    "metric_values = metric_values(r_c, theta_c, phi_c, a)"
   ]
  },
  {
   "cell_type": "code",
   "execution_count": 84,
   "metadata": {},
   "outputs": [],
   "source": [
    "Omega = expr(\"1/(a+r**1.5)\")\n",
    "\n",
    "B_r = 0 \n",
    "B_theta = 0\n",
    "B_phi =1\n",
    "beta = omega_bar/alpha*(Omega-omega)\n",
    "beta = sub_metric_values(beta, metric_values)"
   ]
  },
  {
   "cell_type": "code",
   "execution_count": 85,
   "metadata": {},
   "outputs": [
    {
     "data": {
      "text/latex": [
       "$\\displaystyle -0.70086772798665$"
      ],
      "text/plain": [
       "-0.700867727986650"
      ]
     },
     "metadata": {},
     "output_type": "display_data"
    },
    {
     "data": {
      "text/latex": [
       "$\\displaystyle -0.132547560270506$"
      ],
      "text/plain": [
       "-0.132547560270506"
      ]
     },
     "metadata": {},
     "output_type": "display_data"
    },
    {
     "data": {
      "text/latex": [
       "$\\displaystyle -0.70086772798665$"
      ],
      "text/plain": [
       "-0.700867727986650"
      ]
     },
     "metadata": {},
     "output_type": "display_data"
    }
   ],
   "source": [
    "N_x = 1.0/sp.sqrt(3) \n",
    "N_y = 1.0/sp.sqrt(3) \n",
    "N_z = 1.0/sp.sqrt(3) \n",
    "\n",
    "_ = sub_metric_values(1-beta*N_y, metric_values)\n",
    "n_Fy =  sub_metric_values( (beta-N_y)/_ , metric_values)\n",
    "n_Fx =  sub_metric_values( -N_x*sp.sqrt(1-beta**2)/_ , metric_values)\n",
    "n_Fz =  sub_metric_values( -N_z*sp.sqrt(1-beta**2)/_ , metric_values)\n",
    "\n",
    "display(n_Fx, n_Fy,n_Fz)"
   ]
  },
  {
   "cell_type": "code",
   "execution_count": 86,
   "metadata": {},
   "outputs": [
    {
     "data": {
      "text/latex": [
       "$\\displaystyle -0.70086772798665$"
      ],
      "text/plain": [
       "-0.700867727986650"
      ]
     },
     "metadata": {},
     "output_type": "display_data"
    },
    {
     "data": {
      "text/latex": [
       "$\\displaystyle 0.70086772798665$"
      ],
      "text/plain": [
       "0.700867727986650"
      ]
     },
     "metadata": {},
     "output_type": "display_data"
    },
    {
     "data": {
      "text/latex": [
       "$\\displaystyle -0.132547560270506$"
      ],
      "text/plain": [
       "-0.132547560270506"
      ]
     },
     "metadata": {},
     "output_type": "display_data"
    }
   ],
   "source": [
    "kappa = sp.sqrt(1-B_theta**2)\n",
    "n_Fr    = B_phi/kappa*n_Fx + B_r*n_Fy+B_r*B_theta/kappa * n_Fz\n",
    "n_Ftheta= B_theta*n_Fy - kappa*n_Fz\n",
    "n_Fphi  = -B_r/kappa * n_Fx + B_phi*n_Fy + B_theta*B_phi/kappa*n_Fz\n",
    "\n",
    "display(n_Fr, n_Ftheta, n_Fphi)"
   ]
  },
  {
   "cell_type": "code",
   "execution_count": 87,
   "metadata": {},
   "outputs": [
    {
     "data": {
      "text/latex": [
       "$\\displaystyle -1.33267663031924$"
      ],
      "text/plain": [
       "-1.33267663031924"
      ]
     },
     "metadata": {},
     "output_type": "display_data"
    },
    {
     "data": {
      "text/latex": [
       "$\\displaystyle 3.99758586286978$"
      ],
      "text/plain": [
       "3.99758586286978"
      ]
     },
     "metadata": {},
     "output_type": "display_data"
    },
    {
     "data": {
      "text/latex": [
       "$\\displaystyle -0.790597249524871$"
      ],
      "text/plain": [
       "-0.790597249524871"
      ]
     },
     "metadata": {},
     "output_type": "display_data"
    }
   ],
   "source": [
    "E_f = sub_metric_values(1/(expr(\"alpha\")+expr(\"omega*omega_bar\")*n_Fphi), metric_values)\n",
    "p_t = -1 \n",
    "p_r = sub_metric_values(E_f*rho/sp.sqrt(Delta)*n_Fr, metric_values)\n",
    "p_theta = sub_metric_values(E_f*rho*n_Ftheta, metric_values)\n",
    "p_phi = sub_metric_values(E_f*omega_bar*n_Fphi, metric_values)\n",
    "\n",
    "display(p_r, p_theta, p_phi)"
   ]
  },
  {
   "cell_type": "code",
   "execution_count": 88,
   "metadata": {},
   "outputs": [
    {
     "data": {
      "text/latex": [
       "$\\displaystyle -0.790597249524871$"
      ],
      "text/plain": [
       "-0.790597249524871"
      ]
     },
     "metadata": {},
     "output_type": "display_data"
    },
    {
     "data": {
      "text/latex": [
       "$\\displaystyle 15.9806927310163$"
      ],
      "text/plain": [
       "15.9806927310163"
      ]
     },
     "metadata": {},
     "output_type": "display_data"
    }
   ],
   "source": [
    "b = p_phi \n",
    "q = sub_metric_values(p_theta**2 +sp.cos(theta_c)**2*(b**2/sp.sin(theta_c)**2-a**2), metric_values)\n",
    "display(b,q)"
   ]
  },
  {
   "cell_type": "code",
   "execution_count": 89,
   "metadata": {},
   "outputs": [],
   "source": [
    "def eval_on(expr, values):\n",
    "    return expr.subs(values).evalf()\n",
    "\n",
    "def ray_values(p_r,p_theta,b,q, metric_values: dict):\n",
    "    ray_values = metric_values.copy()\n",
    "\n",
    "    ray_values['b'] = b\n",
    "    ray_values['q'] = q\n",
    "\n",
    "    ray_values['p_r'] = p_r \n",
    "    ray_values['p_theta'] = p_theta \n",
    "\n",
    "    ray_values['P'] = eval_on(P, ray_values)\n",
    "    ray_values['R'] = eval_on(R, ray_values)\n",
    "    ray_values['Theta'] =eval_on(Theta, ray_values)\n",
    "    \n",
    "    return ray_values\n",
    "ray = ray_values(p_r,p_theta,b,q,metric_values)"
   ]
  },
  {
   "cell_type": "code",
   "execution_count": 90,
   "metadata": {},
   "outputs": [
    {
     "name": "stdout",
     "output_type": "stream",
     "text": [
      "[(0, r/sqrt(a**2*cos(theta) + r**2), -a**2*sin(theta)/(2*sqrt(a**2*cos(theta) + r**2))), (0, 2*r - 2, 0), (0, (-a**2*sin(theta)**2*Derivative(Delta(r), r)/2 + 2*r*(a**2 + r**2))/sqrt(-a**2*Delta(r)*sin(theta)**2 + (a**2 + r**2)**2), -Delta*a**2*sin(theta)*cos(theta)/sqrt(-Delta*a**2*sin(theta)**2 + (a**2 + r**2)**2)), (0, sqrt(Delta(r))*Derivative(rho(r), r)/Sigma(r) - sqrt(Delta(r))*rho(r)*Derivative(Sigma(r), r)/Sigma(r)**2 + rho(r)*Derivative(Delta(r), r)/(2*sqrt(Delta(r))*Sigma(r)), sqrt(Delta)*Derivative(rho(theta), theta)/Sigma(theta) - sqrt(Delta)*rho(theta)*Derivative(Sigma(theta), theta)/Sigma(theta)**2), (-a, 2*r, 0), (-Delta*(-2*a + 2*b) + 2*P(b)*Derivative(P(b), b), -(q + (-a + b)**2)*Derivative(Delta(r), r), 0), (-2*b*cos(theta)**2/sin(theta)**2, 0, 2*b**2*cos(theta)**3/sin(theta)**3 + 2*(-a**2 + b**2/sin(theta)**2)*sin(theta)*cos(theta))]\n"
     ]
    }
   ],
   "source": [
    "# Replace functions with their evaluated value \n",
    "def replace_fns(expression, values):\n",
    "    for letter in [\n",
    "    'rho',\n",
    "    'Delta',\n",
    "    'Sigma',\n",
    "    'alpha',\n",
    "    'P',\n",
    "    'R',\n",
    "    'Theta',\n",
    "    ]:\n",
    "        fn = sp.Function(letter)\n",
    "        expression=expression.replace(fn, sp.Lambda((x), letter))\n",
    "\n",
    "    return expression\n",
    "\n",
    "# Get the partial derivatives with respect to b, r, theta\n",
    "def partials(sym_b, sym_r=None, sym_theta=None):\n",
    "    if sym_r is None and sym_theta is None: \n",
    "        sym_r = sym_b \n",
    "        sym_theta = sym_b\n",
    "\n",
    "    return (\n",
    "        sym_b.diff(\"b\"),\n",
    "        sym_r.diff(\"r\"),\n",
    "        sym_theta.diff(\"theta\")\n",
    "    )\n",
    "\n",
    "# Dictionary of evaluated partial derivatives\n",
    "partial_values = {}\n",
    "\n",
    "# Replace partial derivatives with their values\n",
    "def replace_partials(expression):\n",
    "    for (old, new) in partial_values.items(): \n",
    "        expression = expression.replace(old, new)\n",
    "    return expression\n",
    "\n",
    "\n",
    "# Expressions for partial derivatives\n",
    "partials_rho = partials(rho)\n",
    "partials_Delta = partials(Delta)\n",
    "partials_Sigma = partials(\n",
    "    Sigma,\n",
    "    Sigma.subs(\"Delta\", \"Delta(r)\"),\n",
    "    Sigma,\n",
    ")\n",
    "\n",
    "partials_alpha = partials(\n",
    "    alpha,\n",
    "    alpha.subs({\"rho\": \"rho(r)\",\"Delta\": \"Delta(r)\", \"Sigma\": \"Sigma(r)\"}),\n",
    "    alpha.subs({\"rho\": \"rho(theta)\", \"Sigma\": \"Sigma(theta)\"}),\n",
    ")\n",
    "\n",
    "partials_P = partials(P)\n",
    "partials_R = partials(\n",
    "    R.subs({\"P\": \"P(b)\"}),\n",
    "    R.subs({\"Delta\": \"Delta(r)\"}),\n",
    "    R,\n",
    ")\n",
    "partials_Theta = partials(\n",
    "    Theta\n",
    ")\n",
    "\n",
    "print([\n",
    "        partials_rho,\n",
    "    partials_Delta,\n",
    "    partials_Sigma,\n",
    "    partials_alpha,\n",
    "    partials_P,\n",
    "    partials_R,\n",
    "    partials_Theta,\n",
    "])\n",
    "\n",
    "# Evaluate partial derivatives\n",
    "for (letter, exprs) in [\n",
    "    ('rho', partials_rho),\n",
    "    ('Delta', partials_Delta),\n",
    "    ('Sigma', partials_Sigma),\n",
    "    ('alpha', partials_alpha),\n",
    "    ('P', partials_P),\n",
    "    ('R', partials_R),\n",
    "    ('Theta', partials_Theta)\n",
    "]:\n",
    "    for (x, expression) in zip(['b', 'r', 'theta'], exprs):\n",
    "        fn = sp.Function(letter)(x)\n",
    "        dfn = fn.diff(x)\n",
    "\n",
    "        expression= replace_partials(expression)\n",
    "        expression = replace_fns(expression, ray)\n",
    "\n",
    "        partial_values[dfn] = eval_on(expression, ray)\n",
    "\n"
   ]
  },
  {
   "cell_type": "code",
   "execution_count": 91,
   "metadata": {},
   "outputs": [
    {
     "data": {
      "text/latex": [
       "$\\displaystyle -0.74946410326807$"
      ],
      "text/plain": [
       "-0.749464103268070"
      ]
     },
     "execution_count": 91,
     "metadata": {},
     "output_type": "execute_result"
    },
    {
     "data": {
      "text/latex": [
       "$\\displaystyle 0.249849116429361$"
      ],
      "text/plain": [
       "0.249849116429361"
      ]
     },
     "execution_count": 91,
     "metadata": {},
     "output_type": "execute_result"
    },
    {
     "data": {
      "text/latex": [
       "$\\displaystyle -0.0115805027402825$"
      ],
      "text/plain": [
       "-0.0115805027402825"
      ]
     },
     "execution_count": 91,
     "metadata": {},
     "output_type": "execute_result"
    },
    {
     "data": {
      "text/latex": [
       "$\\displaystyle -0.666010125374639$"
      ],
      "text/plain": [
       "-0.666010125374639"
      ]
     },
     "execution_count": 91,
     "metadata": {},
     "output_type": "execute_result"
    },
    {
     "data": {
      "text/latex": [
       "$\\displaystyle 5.20417042793042 \\cdot 10^{-17}$"
      ],
      "text/plain": [
       "5.20417042793042e-17"
      ]
     },
     "execution_count": 91,
     "metadata": {},
     "output_type": "execute_result"
    }
   ],
   "source": [
    "def subs_partial(expression):\n",
    "    expression = replace_partials(expression)\n",
    "    expression = replace_fns(expression, ray)\n",
    "    expression = eval_on(expression, ray)\n",
    "    return expression\n",
    "\n",
    "d_r = expr(\"Delta/rho**2*p_r\")\n",
    "d_theta = expr(\"1/rho**2*p_theta\")\n",
    "\n",
    "d_phi = expr(\"(R(b)+Delta*Theta(b))/(2*Delta*rho**2)\").diff(\"b\")\n",
    "d_p_r     = sp.diff(expr(\"-Delta(r)/(2*rho(r)**2)*p_r**2-1/(2*rho(r)**2)*p_theta**2+((R+Delta(r)*Theta)/(2*Delta(r)*rho(r)**2))\"),\"r\")\n",
    "d_p_theta = sp.diff(expr(\"-Delta/(2*rho(theta)**2)*p_r**2-1/(2*rho(theta)**2)*p_theta**2+((R(theta)+Delta(theta)*Theta(theta))/(2*Delta*rho(theta)**2))\"),\"theta\")\n",
    "\n",
    "subs_partial(d_r)\n",
    "subs_partial(d_theta)\n",
    "subs_partial(d_phi)\n",
    "subs_partial(d_p_r)\n",
    "subs_partial(d_p_theta)"
   ]
  },
  {
   "cell_type": "code",
   "execution_count": 92,
   "metadata": {},
   "outputs": [
    {
     "name": "stdout",
     "output_type": "stream",
     "text": [
      "0\n"
     ]
    },
    {
     "ename": "NameError",
     "evalue": "name 'state' is not defined",
     "output_type": "error",
     "traceback": [
      "\u001b[0;31m---------------------------------------------------------------------------\u001b[0m",
      "\u001b[0;31mNameError\u001b[0m                                 Traceback (most recent call last)",
      "Cell \u001b[0;32mIn[92], line 9\u001b[0m\n\u001b[1;32m      6\u001b[0m \u001b[39mprint\u001b[39m(i)\n\u001b[1;32m      7\u001b[0m h \u001b[39m=\u001b[39m \u001b[39m0.01\u001b[39m\n\u001b[1;32m      8\u001b[0m new_state \u001b[39m=\u001b[39m (\n\u001b[0;32m----> 9\u001b[0m     (state[\u001b[39m0\u001b[39m] \u001b[39m+\u001b[39m h\u001b[39m*\u001b[39msub_state(d_r, state))\u001b[39m.\u001b[39mevalf(),\n\u001b[1;32m     10\u001b[0m     (state[\u001b[39m1\u001b[39m] \u001b[39m+\u001b[39m h\u001b[39m*\u001b[39msub_state(d_theta, state))\u001b[39m.\u001b[39mevalf(),\n\u001b[1;32m     11\u001b[0m     (state[\u001b[39m2\u001b[39m] \u001b[39m+\u001b[39m h\u001b[39m*\u001b[39msub_state(d_phi, state))\u001b[39m.\u001b[39mevalf(),\n\u001b[1;32m     12\u001b[0m     (state[\u001b[39m3\u001b[39m] \u001b[39m+\u001b[39m h\u001b[39m*\u001b[39msub_state(d_p_r, state))\u001b[39m.\u001b[39mevalf(),\n\u001b[1;32m     13\u001b[0m     (state[\u001b[39m4\u001b[39m] \u001b[39m+\u001b[39m h\u001b[39m*\u001b[39msub_state(d_p_theta, state))\u001b[39m.\u001b[39mevalf(),\n\u001b[1;32m     14\u001b[0m )\n\u001b[1;32m     15\u001b[0m state \u001b[39m=\u001b[39m new_state\n\u001b[1;32m     16\u001b[0m _r\u001b[39m=\u001b[39mstate[\u001b[39m0\u001b[39m]\n",
      "\u001b[0;31mNameError\u001b[0m: name 'state' is not defined"
     ]
    }
   ],
   "source": [
    "data = (\n",
    "    [],[],[]\n",
    ")\n",
    "\n",
    "for i in range(100):\n",
    "    print(i)\n",
    "    h = 0.01\n",
    "    new_state = (\n",
    "        (state[0] + h*sub_state(d_r, state)).evalf(),\n",
    "        (state[1] + h*sub_state(d_theta, state)).evalf(),\n",
    "        (state[2] + h*sub_state(d_phi, state)).evalf(),\n",
    "        (state[3] + h*sub_state(d_p_r, state)).evalf(),\n",
    "        (state[4] + h*sub_state(d_p_theta, state)).evalf(),\n",
    "    )\n",
    "    state = new_state\n",
    "    _r=state[0]\n",
    "    _theta=state[1]\n",
    "    _phi=state[2]\n",
    "    data[0].append((sqrt(_r**2+a**2)*sin(_theta)*cos(_phi)).evalf())\n",
    "    data[1].append((sqrt(_r**2+a**2)*sin(_theta)*sin(_phi)).evalf())\n",
    "    data[2].append((_r*cos(_theta)).evalf())\n"
   ]
  },
  {
   "cell_type": "code",
   "execution_count": null,
   "metadata": {},
   "outputs": [],
   "source": [
    "print(state[0])\n"
   ]
  },
  {
   "cell_type": "code",
   "execution_count": null,
   "metadata": {},
   "outputs": [],
   "source": [
    "import numpy as np\n",
    "import matplotlib.pyplot as plt\n",
    "\n",
    "\n",
    "ax = plt.figure().add_subplot(projection='3d')\n",
    "\n",
    "x = data[0]\n",
    "y = data[1]\n",
    "z = data[2]\n",
    "\n",
    "ax.plot(x, y, z, label='parametric curve')\n",
    "ax.legend()\n",
    "\n",
    "plt.show()"
   ]
  },
  {
   "cell_type": "code",
   "execution_count": null,
   "metadata": {},
   "outputs": [],
   "source": [
    "data"
   ]
  },
  {
   "attachments": {},
   "cell_type": "markdown",
   "metadata": {},
   "source": []
  }
 ],
 "metadata": {
  "kernelspec": {
   "display_name": "Python 3",
   "language": "python",
   "name": "python3"
  },
  "language_info": {
   "codemirror_mode": {
    "name": "ipython",
    "version": 3
   },
   "file_extension": ".py",
   "mimetype": "text/x-python",
   "name": "python",
   "nbconvert_exporter": "python",
   "pygments_lexer": "ipython3",
   "version": "3.11.3"
  },
  "orig_nbformat": 4
 },
 "nbformat": 4,
 "nbformat_minor": 2
}
