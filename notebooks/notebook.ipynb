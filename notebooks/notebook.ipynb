{
 "cells": [
  {
   "cell_type": "code",
   "execution_count": 3,
   "metadata": {},
   "outputs": [],
   "source": [
    "class State:\n",
    "    a=0.9\n",
    "\n",
    "    r=0\n",
    "    theta=0\n",
    "    phi=0\n",
    "\n",
    "    rho=0\n",
    "    Delta=0\n",
    "    Sigma=0\n",
    "    alpha=0\n",
    "    omega=0\n",
    "    omega_bar=0\n",
    "\n",
    "    def rho(this):\n",
    "        rho = sqrt(r**2 + a**2*cos(theta)**2)\n",
    "        return rho"
   ]
  },
  {
   "cell_type": "code",
   "execution_count": null,
   "metadata": {},
   "outputs": [],
   "source": [
    "rho()"
   ]
  }
 ],
 "metadata": {
  "kernelspec": {
   "display_name": "Python 3",
   "language": "python",
   "name": "python3"
  },
  "language_info": {
   "codemirror_mode": {
    "name": "ipython",
    "version": 3
   },
   "file_extension": ".py",
   "mimetype": "text/x-python",
   "name": "python",
   "nbconvert_exporter": "python",
   "pygments_lexer": "ipython3",
   "version": "3.11.3"
  },
  "orig_nbformat": 4
 },
 "nbformat": 4,
 "nbformat_minor": 2
}
