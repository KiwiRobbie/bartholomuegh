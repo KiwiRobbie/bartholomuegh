{
 "cells": [
  {
   "cell_type": "code",
   "execution_count": 2,
   "metadata": {},
   "outputs": [],
   "source": [
    "import sympy as sp\n",
    "from sympy.parsing.sympy_parser import parse_expr as expr\n",
    "from IPython.core.interactiveshell import InteractiveShell\n",
    "InteractiveShell.ast_node_interactivity = 'all'\n"
   ]
  },
  {
   "cell_type": "code",
   "execution_count": 4,
   "metadata": {},
   "outputs": [
    {
     "data": {
      "text/plain": [
       "[sin(theta)*cos(phi), sin(phi)*sin(theta), cos(theta)]"
      ]
     },
     "execution_count": 4,
     "metadata": {},
     "output_type": "execute_result"
    }
   ],
   "source": [
    "#coordinates transformmations\n",
    "\n",
    "\n",
    "x = expr(\"r*sin(theta)*cos(phi)\")\n",
    "y = expr(\"r*sin(theta)*sin(phi)\")\n",
    "z = expr(\"r*cos(theta)\")\n",
    "\n",
    "\n",
    "[\n",
    "    x.diff(\"r\"), y.diff('r'), z.diff('r'),\n",
    "]\n",
    "[\n",
    "    x.diff(\"theta\"), y.diff('theta'), z.diff('theta'),\n",
    "]\n",
    "[\n",
    "    x.diff(\"phi\"), y.diff('phi'), z.diff('phi'),\n",
    "]\n"
   ]
  },
  {
   "cell_type": "code",
   "execution_count": 48,
   "metadata": {},
   "outputs": [
    {
     "data": {
      "text/latex": [
       "$\\displaystyle \\frac{p_{r} \\left(a^{2} + r^{2} - 2 r\\right)}{a^{2} \\cos^{2}{\\left(\\theta \\right)} + r^{2}}$"
      ],
      "text/plain": [
       "p_r*(a**2 + r**2 - 2*r)/(a**2*cos(theta)**2 + r**2)"
      ]
     },
     "metadata": {},
     "output_type": "display_data"
    },
    {
     "data": {
      "text/latex": [
       "$\\displaystyle \\frac{p_{\\theta}}{a^{2} \\cos^{2}{\\left(\\theta \\right)} + r^{2}}$"
      ],
      "text/plain": [
       "p_theta/(a**2*cos(theta)**2 + r**2)"
      ]
     },
     "metadata": {},
     "output_type": "display_data"
    },
    {
     "data": {
      "text/latex": [
       "$\\displaystyle \\frac{p_{r}^{2} \\cdot \\left(1 - r\\right) \\left(a^{2} \\cos^{2}{\\left(\\theta \\right)} + r^{2}\\right) \\left(a^{2} + r^{2} - 2 r\\right)^{2} \\sin^{2}{\\left(\\theta \\right)} + r \\left(p_{r}^{2} \\left(a^{2} + r^{2} - 2 r\\right) + p_{\\theta}^{2}\\right) \\left(a^{2} + r^{2} - 2 r\\right)^{2} \\sin^{2}{\\left(\\theta \\right)} - r \\left(\\left(q \\sin^{2}{\\left(\\theta \\right)} + \\left(a^{2} \\sin^{2}{\\left(\\theta \\right)} - b^{2}\\right) \\cos^{2}{\\left(\\theta \\right)}\\right) \\left(a^{2} + r^{2} - 2 r\\right) + \\left(- \\left(q + \\left(a - b\\right)^{2}\\right) \\left(a^{2} + r^{2} - 2 r\\right) + \\left(a^{2} - a b + r^{2}\\right)^{2}\\right) \\sin^{2}{\\left(\\theta \\right)}\\right) \\left(a^{2} + r^{2} - 2 r\\right) + \\left(1 - r\\right) \\left(a^{2} \\cos^{2}{\\left(\\theta \\right)} + r^{2}\\right) \\left(\\left(q \\sin^{2}{\\left(\\theta \\right)} + \\left(a^{2} \\sin^{2}{\\left(\\theta \\right)} - b^{2}\\right) \\cos^{2}{\\left(\\theta \\right)}\\right) \\left(a^{2} + r^{2} - 2 r\\right) + \\left(- \\left(q + \\left(a - b\\right)^{2}\\right) \\left(a^{2} + r^{2} - 2 r\\right) + \\left(a^{2} - a b + r^{2}\\right)^{2}\\right) \\sin^{2}{\\left(\\theta \\right)}\\right) + \\left(a^{2} \\cos^{2}{\\left(\\theta \\right)} + r^{2}\\right) \\left(\\left(r - 1\\right) \\left(q \\sin^{2}{\\left(\\theta \\right)} + \\left(a^{2} \\sin^{2}{\\left(\\theta \\right)} - b^{2}\\right) \\cos^{2}{\\left(\\theta \\right)}\\right) + \\left(2 r \\left(a^{2} - a b + r^{2}\\right) - \\left(q + \\left(a - b\\right)^{2}\\right) \\left(r - 1\\right)\\right) \\sin^{2}{\\left(\\theta \\right)}\\right) \\left(a^{2} + r^{2} - 2 r\\right)}{\\left(a^{2} \\cos^{2}{\\left(\\theta \\right)} + r^{2}\\right)^{2} \\left(a^{2} + r^{2} - 2 r\\right)^{2} \\sin^{2}{\\left(\\theta \\right)}}$"
      ],
      "text/plain": [
       "(p_r**2*(1 - r)*(a**2*cos(theta)**2 + r**2)*(a**2 + r**2 - 2*r)**2*sin(theta)**2 + r*(p_r**2*(a**2 + r**2 - 2*r) + p_theta**2)*(a**2 + r**2 - 2*r)**2*sin(theta)**2 - r*((q*sin(theta)**2 + (a**2*sin(theta)**2 - b**2)*cos(theta)**2)*(a**2 + r**2 - 2*r) + (-(q + (a - b)**2)*(a**2 + r**2 - 2*r) + (a**2 - a*b + r**2)**2)*sin(theta)**2)*(a**2 + r**2 - 2*r) + (1 - r)*(a**2*cos(theta)**2 + r**2)*((q*sin(theta)**2 + (a**2*sin(theta)**2 - b**2)*cos(theta)**2)*(a**2 + r**2 - 2*r) + (-(q + (a - b)**2)*(a**2 + r**2 - 2*r) + (a**2 - a*b + r**2)**2)*sin(theta)**2) + (a**2*cos(theta)**2 + r**2)*((r - 1)*(q*sin(theta)**2 + (a**2*sin(theta)**2 - b**2)*cos(theta)**2) + (2*r*(a**2 - a*b + r**2) - (q + (a - b)**2)*(r - 1))*sin(theta)**2)*(a**2 + r**2 - 2*r))/((a**2*cos(theta)**2 + r**2)**2*(a**2 + r**2 - 2*r)**2*sin(theta)**2)"
      ]
     },
     "metadata": {},
     "output_type": "display_data"
    },
    {
     "data": {
      "text/latex": [
       "$\\displaystyle \\frac{\\left(a^{2} \\left(p_{r}^{2} \\left(- a^{2} - r^{2} + 2 r\\right) - p_{\\theta}^{2}\\right) \\left(a^{2} + r^{2} - 2 r\\right) \\sin^{4}{\\left(\\theta \\right)} + a^{2} \\left(\\left(q \\sin^{2}{\\left(\\theta \\right)} + \\left(a^{2} \\sin^{2}{\\left(\\theta \\right)} - b^{2}\\right) \\cos^{2}{\\left(\\theta \\right)}\\right) \\left(a^{2} + r^{2} - 2 r\\right) + \\left(- \\left(q + \\left(a - b\\right)^{2}\\right) \\left(a^{2} + r^{2} - 2 r\\right) + \\left(a^{2} - a b + r^{2}\\right)^{2}\\right) \\sin^{2}{\\left(\\theta \\right)}\\right) \\sin^{2}{\\left(\\theta \\right)} + \\left(- a^{2} \\sin^{4}{\\left(\\theta \\right)} + b^{2}\\right) \\left(a^{2} \\cos^{2}{\\left(\\theta \\right)} + r^{2}\\right) \\left(a^{2} + r^{2} - 2 r\\right)\\right) \\cos{\\left(\\theta \\right)}}{\\left(a^{2} \\cos^{2}{\\left(\\theta \\right)} + r^{2}\\right)^{2} \\left(a^{2} + r^{2} - 2 r\\right) \\sin^{3}{\\left(\\theta \\right)}}$"
      ],
      "text/plain": [
       "(a**2*(p_r**2*(-a**2 - r**2 + 2*r) - p_theta**2)*(a**2 + r**2 - 2*r)*sin(theta)**4 + a**2*((q*sin(theta)**2 + (a**2*sin(theta)**2 - b**2)*cos(theta)**2)*(a**2 + r**2 - 2*r) + (-(q + (a - b)**2)*(a**2 + r**2 - 2*r) + (a**2 - a*b + r**2)**2)*sin(theta)**2)*sin(theta)**2 + (-a**2*sin(theta)**4 + b**2)*(a**2*cos(theta)**2 + r**2)*(a**2 + r**2 - 2*r))*cos(theta)/((a**2*cos(theta)**2 + r**2)**2*(a**2 + r**2 - 2*r)*sin(theta)**3)"
      ]
     },
     "metadata": {},
     "output_type": "display_data"
    }
   ],
   "source": [
    "rho = expr(\"sqrt(r**2 + a**2*cos(theta)**2)\")\n",
    "Delta = expr(\"r**2 -2*r+a**2\")\n",
    "Sigma = expr(\"sqrt((r**2+a**2)**2 -a**2*Delta*sin(theta)**2)\")\n",
    "alpha = expr(\"rho*sqrt(Delta)/Sigma\")\n",
    "omega = expr(\"2* a*r/Sigma**2\")\n",
    "omega_bar = expr(\"Sigma*sin(theta)/rho\")\n",
    "\n",
    "P = expr(\"r**2 + a**2 - a*b\")\n",
    "R = expr(\"P**2 - Delta*((b-a)**2+q)\")\n",
    "Theta = expr(\"q-cos(theta)**2* (b**2/sin(theta)**2-a**2)\")\n",
    "\n",
    "d_r = (Delta/rho**2*sp.Symbol(\"p_r\")).simplify()\n",
    "d_theta = (1/rho**2*sp.Symbol(\"p_theta\")).simplify()\n",
    "\n",
    "\n",
    "d_phi =     (-(R+Delta*Theta)/(2*Delta*rho**2)).subs({\n",
    "    \"P\": P, \"Delta\": Delta\n",
    "}).subs({\"Delta\": Delta}).diff(\"b\").simplify()\n",
    "d_p_r     = sp.diff((-Delta/(2*rho**2)*sp.Symbol(\"p_r\")**2-1/(2*rho**2)*sp.Symbol(\"p_theta\")**2+((R+Delta*Theta)/(2*Delta*rho**2)).subs({\n",
    "    \"P\": P, \"Delta\": Delta\n",
    "})),\"r\").simplify()\n",
    "d_p_theta = sp.diff((-Delta/(2*rho**2)*sp.Symbol(\"p_r\")**2-1/(2*rho**2)*sp.Symbol(\"p_theta\")**2+((R+Delta*Theta)/(2*Delta*rho**2)).subs({\n",
    "    \"P\": P, \"Delta\": Delta\n",
    "})),\"theta\").simplify()\n",
    "\n",
    "dr = sp.lambdify(sp.symbols(\"r theta phi p_r p_theta b a\"), d_r, cse=True, modules=[\"math\", \"mpmath\", \"sympy\"])\n",
    "dtheta = sp.lambdify(sp.symbols(\"r theta phi p_r p_theta b a\"), d_theta, cse=True, modules=[\"math\", \"mpmath\", \"sympy\"])\n",
    "dphi = sp.lambdify(sp.symbols(\"r theta phi p_r p_theta b a\"), d_phi, cse=True, modules=[\"math\", \"mpmath\", \"sympy\"])\n",
    "dp_r = sp.lambdify(sp.symbols(\"r theta phi p_r p_theta b a\"), d_p_r, cse=True, modules=[\"math\", \"mpmath\", \"sympy\"])\n",
    "dp_theta = sp.lambdify(sp.symbols(\"r theta phi p_r p_theta b a\"), d_p_theta, cse=True, modules=[\"math\", \"mpmath\", \"sympy\"])"
   ]
  },
  {
   "cell_type": "code",
   "execution_count": 49,
   "metadata": {},
   "outputs": [],
   "source": []
  },
  {
   "cell_type": "code",
   "execution_count": 68,
   "metadata": {},
   "outputs": [
    {
     "name": "stdout",
     "output_type": "stream",
     "text": [
      "let x0_0 : f32 = a**2;\n",
      "let x0_1 : f32 = r**2;\n",
      "let o0 : f32 = p_r*(-2*r + x0_0 + x0_1)/(x0_0*cos(theta)**2 + x0_1)\n",
      "\n",
      "let o1 : f32 = p_theta/(a**2*cos(theta)**2 + r**2)\n",
      "\n",
      "let x2_0 : f32 = a**2;\n",
      "let x2_1 : f32 = 2*r;\n",
      "let x2_2 : f32 = r**2;\n",
      "let x2_3 : f32 = cos(theta)**2;\n",
      "let x2_4 : f32 = x2_0*x2_3;\n",
      "let x2_5 : f32 = a*x2_1;\n",
      "let o2 : f32 = (-b*x2_1 + b*x2_2 + b*x2_4 - x2_3*x2_5 + x2_5)/((x2_2 + x2_4)*(x2_0 - x2_1 + x2_2)*sin(theta)**2)\n",
      "\n",
      "let x3_0 : f32 = sin(theta)**2;\n",
      "let x3_1 : f32 = 2*r;\n",
      "let x3_2 : f32 = r**2;\n",
      "let x3_3 : f32 = a**2;\n",
      "let x3_4 : f32 = x3_2 + x3_3;\n",
      "let x3_5 : f32 = -x3_1 + x3_4;\n",
      "let x3_6 : f32 = x3_5**2;\n",
      "let x3_7 : f32 = cos(theta)**2;\n",
      "let x3_8 : f32 = x3_2 + x3_3*x3_7;\n",
      "let x3_9 : f32 = p_r**2;\n",
      "let x3_10 : f32 = x3_0*x3_6;\n",
      "let x3_11 : f32 = r - 1;\n",
      "let x3_12 : f32 = -x3_11*x3_8;\n",
      "let x3_13 : f32 = q*x3_0 + x3_7*(-b**2 + x3_0*x3_3);\n",
      "let x3_14 : f32 = -a*b + x3_4;\n",
      "let x3_15 : f32 = q + (a - b)**2;\n",
      "let x3_16 : f32 = x3_0*(x3_14**2 - x3_15*x3_5) + x3_13*x3_5;\n",
      "let o3 : f32 = (r*x3_10*(p_theta**2 + x3_5*x3_9) - r*x3_16*x3_5 + x3_10*x3_12*x3_9 + x3_12*x3_16 + x3_5*x3_8*(x3_0*(x3_1*x3_14 - x3_11*x3_15) + x3_11*x3_13))/(x3_0*x3_6*x3_8**2)\n",
      "\n",
      "let x4_0 : f32 = cos(theta);\n",
      "let x4_1 : f32 = sin(theta);\n",
      "let x4_2 : f32 = r**2;\n",
      "let x4_3 : f32 = a**2;\n",
      "let x4_4 : f32 = x4_2 + x4_3;\n",
      "let x4_5 : f32 = -2*r + x4_4;\n",
      "let x4_6 : f32 = x4_0**2;\n",
      "let x4_7 : f32 = x4_2 + x4_3*x4_6;\n",
      "let x4_8 : f32 = -b**2;\n",
      "let x4_9 : f32 = x4_1**4*x4_3;\n",
      "let x4_10 : f32 = x4_1**2;\n",
      "let x4_11 : f32 = x4_10*x4_3;\n",
      "let o4 : f32 = x4_0*(x4_11*(x4_10*(-x4_5*(q + (a - b)**2) + (-a*b + x4_4)**2) + x4_5*(q*x4_10 + x4_6*(x4_11 + x4_8))) + x4_5*x4_7*(-x4_8 - x4_9) + x4_5*x4_9*(-p_r**2*x4_5 - p_theta**2))/(x4_1**3*x4_5*x4_7**2)\n",
      "\n"
     ]
    }
   ],
   "source": [
    "cse = [\n",
    "    sp.cse(d_r),\n",
    "    sp.cse(d_theta),\n",
    "    sp.cse(d_phi),\n",
    "    sp.cse(d_p_r),\n",
    "    sp.cse(d_p_theta),\n",
    "]\n",
    "for i, equation in enumerate(cse):\n",
    "    for v, d in equation[0]:\n",
    "        v = str(v).replace(\"x\", f\"x{i}_\")\n",
    "        d = str(d).replace(\"x\", f\"x{i}_\")\n",
    "        \n",
    "        print(f\"let {v} : f32 = {d};\") \n",
    "    d = str(equation[1][0]).replace(\"x\", f\"x{i}_\")\n",
    "    print(f\"let o{i} : f32 = {d}\\n\")"
   ]
  },
  {
   "cell_type": "code",
   "execution_count": 36,
   "metadata": {},
   "outputs": [
    {
     "name": "stdout",
     "output_type": "stream",
     "text": [
      "-(-2*a*(a**2 - a*b + r**2) - 2*b*(a**2 + r**2 - 2*r)*cos(theta)**2/sin(theta)**2 - (-2*a + 2*b)*(a**2 + r**2 - 2*r))/((a**2*cos(theta)**2 + r**2)*(2*a**2 + 2*r**2 - 4*r))\n"
     ]
    }
   ],
   "source": [
    "def derivatives(*args):\n",
    "    return (\n",
    "        dr(*args),\n",
    "        dtheta(*args),\n",
    "        dphi(*args),\n",
    "        dp_r(*args),\n",
    "        dp_theta(*args),\n",
    "    )\n",
    "print(d_phi)"
   ]
  },
  {
   "cell_type": "code",
   "execution_count": 37,
   "metadata": {},
   "outputs": [
    {
     "data": {
      "text/plain": [
       "(-1.0, 1.0, 1.412282927437392, 0.412282927437392, 0.906816439317670)"
      ]
     },
     "execution_count": 37,
     "metadata": {},
     "output_type": "execute_result"
    }
   ],
   "source": [
    "derivatives(1.0, 1.0, 1.0, 1.0, 1.0, 1.0, 0.0)"
   ]
  },
  {
   "cell_type": "code",
   "execution_count": 38,
   "metadata": {},
   "outputs": [],
   "source": [
    "def metric_values(r, theta, phi, a):\n",
    "    rho_v = rho.subs({\"r\": r, \"a\": a, \"theta\": theta}).evalf()\n",
    "    Delta_v = Delta.subs({\"r\": r, \"a\": a}).evalf()\n",
    "    Sigma_v = Sigma.subs({\"r\": r, \"a\": a, \"theta\": theta, \"Delta\": Delta_v}).evalf()\n",
    "    alpha_v = alpha.subs({\"rho\": rho_v, \"Delta\": Delta_v, \"Sigma\": Sigma_v}).evalf()\n",
    "    omega_v = omega.subs({\"a\": a, \"r\": r, \"Sigma\": Sigma_v}).evalf()\n",
    "    omega_bar_v = omega_bar.subs({\"a\": a, \"r\": r, \"Sigma\": Sigma_v, \"theta\": theta, \"rho\": rho_v}).evalf()\n",
    "\n",
    "    return {\n",
    "        \"r\": r,\n",
    "        \"theta\": theta,\n",
    "        \"phi\": phi,\n",
    "        \"a\": a,\n",
    "        \"rho\": rho_v,\n",
    "        \"Delta\": Delta_v,\n",
    "        \"Sigma\": Sigma_v,\n",
    "        \"alpha\": alpha_v,\n",
    "        \"omega\": omega_v,\n",
    "        \"omega_bar\": omega_bar_v,\n",
    "    }\n",
    "\n",
    "def sub_metric_values(expr, values):\n",
    "    return expr.subs(values).evalf()"
   ]
  },
  {
   "cell_type": "code",
   "execution_count": 39,
   "metadata": {},
   "outputs": [],
   "source": [
    "class Observer:\n",
    "    def __init__(self, r, theta, phi, a, B_r, B_theta, B_phi):\n",
    "        self.r = r\n",
    "        self.theta = theta\n",
    "        self.phi = phi\n",
    "        self.a = a\n",
    "        self.metric_values = metric_values(r, theta, phi, a)\n",
    "\n",
    "        self.B_r = B_r \n",
    "        self.B_theta = B_theta\n",
    "        self.B_phi = B_phi\n",
    "\n",
    "        Omega = expr(\"1/(a+r**1.5)\")\n",
    "        beta = omega_bar/alpha*(Omega-omega)\n",
    "        self.beta = self.sub_values(beta)\n",
    "\n",
    "    def sub_values(self, expr):\n",
    "        return sub_metric_values(expr, self.metric_values)\n",
    "\n",
    "    def fido_ray(self, x, y, z):\n",
    "        # Normalize\n",
    "        L= sp.sqrt(x*x+y*y+z*z)\n",
    "        N_x = (x/L).evalf()\n",
    "        N_y = (y/L).evalf()\n",
    "        N_z = (z/L).evalf()\n",
    "\n",
    "        # Cartesian FIDO ray\n",
    "        _ = self.sub_values(1-self.beta*N_y)\n",
    "        n_Fy =  self.sub_values( (self.beta-N_y)/_ )\n",
    "        n_Fx =  self.sub_values( -N_x*sp.sqrt(1-self.beta**2)/_)\n",
    "        n_Fz =  self.sub_values( -N_z*sp.sqrt(1-self.beta**2)/_)\n",
    "\n",
    "        # Spherical FIDO ray \n",
    "        kappa = sp.sqrt(1-self.B_theta**2)\n",
    "        n_Fr    = self.B_phi/kappa*n_Fx + self.B_r*n_Fy+self.B_r*self.B_theta/kappa * n_Fz\n",
    "        n_Ftheta= self.B_theta*n_Fy - kappa*n_Fz\n",
    "        n_Fphi  = -self.B_r/kappa * n_Fx + self.B_phi*n_Fy + self.B_theta*self.B_phi/kappa*n_Fz\n",
    "\n",
    "        # Determine conjugate momentum \n",
    "        E_f = self.sub_values(1/(expr(\"alpha\")+expr(\"omega*omega_bar\")*n_Fphi))\n",
    "        p_t = -1 \n",
    "        p_r = self.sub_values(E_f*rho/sp.sqrt(Delta)*n_Fr)\n",
    "        p_theta = self.sub_values(E_f*rho*n_Ftheta)\n",
    "        p_phi = self.sub_values(E_f*omega_bar*n_Fphi)\n",
    "\n",
    "        # Constants of motion for photon\n",
    "        b = p_phi \n",
    "        q = self.sub_values(p_theta**2 +sp.cos(self.theta)**2*(b**2/sp.sin(self.theta)**2-self.a**2))\n",
    "\n",
    "        return Ray(self.r, self.theta, self.phi, p_r, p_theta, b, q, self.a)\n",
    "\n",
    "\n",
    "\n",
    "class Ray:\n",
    "    def __init__(self, r, theta, phi, p_r, p_theta, b, q, a):\n",
    "        self.values  = metric_values(r, theta, phi, a)\n",
    "\n",
    "        self.values['p_r'] = p_r\n",
    "        self.values['p_theta'] = p_theta\n",
    "        self.values['b'] = b \n",
    "        self.values['q'] = q \n",
    "\n",
    "        self._calculate_values()\n",
    "\n",
    "    def _calculate_values(self):\n",
    "        self.values['P'] = self.eval(P)\n",
    "        self.values['R'] = self.eval(R)\n",
    "        self.values['Theta'] = self.eval(Theta)\n",
    "\n",
    "    def eval(self, expression):\n",
    "        return expression.subs(self.values).evalf()\n",
    "\n",
    "\n",
    "\n",
    "\n",
    "\n",
    "    def euler_step(self, h):\n",
    "        print((self.r, self.theta, self.phi, self.p_r, self.p_theta, self.values['b'].evalf(), self.a))\n",
    "        deltas = derivatives(self.r, self.theta, self.phi, self.p_r, self.p_theta, self.values['b'], self.a)\n",
    "\n",
    "\n",
    "        self.r = (self.r + deltas[0]).evalf()\n",
    "        self.theta = (self.theta + deltas[1]).evalf()\n",
    "        self.phi = (self.phi + deltas[2]).evalf()\n",
    "        self.p_r = (self.p_r + deltas[3]).evalf()\n",
    "        self.p_theta = (self.p_theta + deltas[4]).evalf()\n",
    "        self._update_values()\n",
    "\n",
    "    def __str__(self):\n",
    "        string = f\"=== RAY {id(self)} ===\\n\"\n",
    "        for (key, val) in self.values.items():\n",
    "            string += f\"\\t{key}: {val}\\n\"\n",
    "        return string\n",
    "\n",
    "    def _update_values(self):\n",
    "        self.values.update(metric_values(self.r, self.theta, self.phi, self.a))\n",
    "        self._calculate_values()\n",
    "\n",
    "\n",
    "    @property\n",
    "    def r(self):\n",
    "        return self.values['r']\n",
    "\n",
    "    @r.setter\n",
    "    def r(self, value):\n",
    "        self.values['r'] = value\n",
    "\n",
    "    @property\n",
    "    def theta(self):\n",
    "        return self.values['theta']\n",
    "\n",
    "    @theta.setter\n",
    "    def theta(self, value):\n",
    "        self.values['theta'] = value\n",
    "\n",
    "    @property\n",
    "    def phi(self):\n",
    "        return self.values['phi']\n",
    "\n",
    "    @phi.setter\n",
    "    def phi(self, value):\n",
    "        self.values['phi'] = value\n",
    "\n",
    "    @property\n",
    "    def p_r(self):\n",
    "        return self.values['p_r']\n",
    "\n",
    "    @p_r.setter\n",
    "    def p_r(self, value):\n",
    "        self.values['p_r'] = value\n",
    "\n",
    "    @property\n",
    "    def p_theta(self):\n",
    "        return self.values['p_theta']\n",
    "\n",
    "    @p_theta.setter\n",
    "    def p_theta(self, value):\n",
    "        self.values['p_theta'] = value\n",
    "\n",
    "    @property \n",
    "    def a(self):\n",
    "        return self.values['a']"
   ]
  },
  {
   "cell_type": "code",
   "execution_count": 40,
   "metadata": {},
   "outputs": [
    {
     "name": "stdout",
     "output_type": "stream",
     "text": [
      "(100.0, 1.57079632679490, 0, 1.01518864994053, 0, 10.2040816326531, 0.0)\n"
     ]
    }
   ],
   "source": [
    "# observer = Observer(4, sp.pi/2, 0, 0.999, 0.0, 0.0, 1.0)\n",
    "\n",
    "observer = Observer(100.0, (sp.pi / 2).evalf(), 0, 0.0, 0.0, 0.0, 1.0)\n",
    "\n",
    "\n",
    "# for theta in np.linspace(-pi / 2, pi / 2, 3, endpoint=False):\n",
    "#     for phi in np.linspace(0, 2 * pi, 6, endpoint=False):\n",
    "# x, y, z = 1.0, 0.0, 0.0\n",
    "\n",
    "ray = observer.fido_ray(-1, 0, 0)\n",
    "ray.euler_step(1)"
   ]
  },
  {
   "cell_type": "code",
   "execution_count": 41,
   "metadata": {},
   "outputs": [
    {
     "name": "stdout",
     "output_type": "stream",
     "text": [
      "0\n",
      "(100.994884876942, 1.57079632679490, 0.00102040816326531, 1.01508558914104, 6.37571219880963e-19, 10.2040816326531, 0.0)\n",
      "1\n",
      "(101.989868743300, 1.57079632679490, 0.00202081158235858, 1.01498360476490, 1.26264307959966e-18, 10.2040816326531, 0.0)\n",
      "2\n",
      "(102.984948731808, 1.57079632679490, 0.00300179091692875, 1.01488269295116, 1.87557838679918e-18, 10.2040816326531, 0.0)\n",
      "3\n",
      "(103.980122084599, 1.57079632679490, 0.00396390464180633, 1.01478284893810, 2.47672608760891e-18, 10.2040816326531, 0.0)\n",
      "4\n",
      "(104.975386148051, 1.57079632679490, 0.00490769009309183, 1.01468406715533, 3.06642192026127e-18, 10.2040816326531, 0.0)\n",
      "5\n",
      "(105.970738367915, 1.57079632679490, 0.00583366445579409, 1.01458634130805, 3.64498903218771e-18, 10.2040816326531, 0.0)\n",
      "6\n",
      "(106.966176284725, 1.57079632679490, 0.00674232569678144, 1.01448966445390, 4.21273856294507e-18, 10.2040816326531, 0.0)\n",
      "7\n",
      "(107.961697529447, 1.57079632679490, 0.00763415344653511, 1.01439402907338, 4.76997019515253e-18, 10.2040816326531, 0.0)\n",
      "8\n",
      "(108.957299819371, 1.57079632679490, 0.00850960983294292, 1.01429942713404, 5.31697267546245e-18, 10.2040816326531, 0.0)\n",
      "9\n",
      "(109.952980954223, 1.57079632679490, 0.00936914027014014, 1.01420585014928, 5.85402430744372e-18, 10.2040816326531, 0.0)\n"
     ]
    }
   ],
   "source": [
    "data = (\n",
    "    [],[],[]\n",
    ")\n",
    "\n",
    "for i in range(10):\n",
    "    print(i)\n",
    "    ray.euler_step(-0.5)\n",
    "    _r=ray.r\n",
    "    _theta=ray.theta\n",
    "    _phi=ray.phi\n",
    "    data[0].append(0.01*(sp.sqrt(_r**2+ray.a**2)*sp.sin(_theta)*sp.cos(_phi)).evalf())\n",
    "    data[1].append(0.01*(sp.sqrt(_r**2+ray.a**2)*sp.sin(_theta)*sp.sin(_phi)).evalf())\n",
    "    data[2].append(0.01*(_r*sp.cos(_theta)).evalf())\n"
   ]
  },
  {
   "cell_type": "code",
   "execution_count": 42,
   "metadata": {},
   "outputs": [
    {
     "name": "stdout",
     "output_type": "stream",
     "text": [
      "([1.01989660496405, 1.02984484746410, 1.03979305189755, 1.04974121962348, 1.05968935193967, 1.06963745008596, 1.07958551524728, 1.08953354855667, 1.09948155109792, 1.10942952390818], [0.00206102167763761, 0.00309138819420991, 0.00412166209221746, 0.00515184594538400, 0.00618194223396595, 0.00721195334890836, 0.00824188159578403, 0.00927172919852842, 0.0103014983029826, 0.0113311909802556], [6.24507831509705e-17, 6.30600939123816e-17, 6.36694618429279e-17, 6.42788853177338e-17, 6.48883627727744e-17, 6.54978927020602e-17, 6.61074736549761e-17, 6.67171042337654e-17, 6.73267830911495e-17, 6.79365089280745e-17])\n"
     ]
    }
   ],
   "source": [
    "print(data)"
   ]
  },
  {
   "cell_type": "code",
   "execution_count": 43,
   "metadata": {},
   "outputs": [
    {
     "data": {
      "text/plain": [
       "[<matplotlib.lines.Line2D at 0x7fe53407ac50>]"
      ]
     },
     "execution_count": 43,
     "metadata": {},
     "output_type": "execute_result"
    },
    {
     "data": {
      "application/vnd.jupyter.widget-view+json": {
       "model_id": "9e846adfa07743bab83c0ecff80947ac",
       "version_major": 2,
       "version_minor": 0
      },
      "image/png": "[encoded data removed]",
      "text/html": [
       "\n",
       "            <div style=\"display: inline-block;\">\n",
       "                <div class=\"jupyter-widgets widget-label\" style=\"text-align: center;\">\n",
       "                    Figure 1\n",
       "                </div>\n",
       "                <img src='data:image/png;base64,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' width=640.0/>\n",
       "            </div>\n",
       "        "
      ],
      "text/plain": [
       "Canvas(toolbar=Toolbar(toolitems=[('Home', 'Reset original view', 'home', 'home'), ('Back', 'Back to previous …"
      ]
     },
     "metadata": {},
     "output_type": "display_data"
    }
   ],
   "source": [
    "%matplotlib widget\n",
    " # importing required libraries\n",
    "from mpl_toolkits.mplot3d import Axes3D\n",
    "import matplotlib.pyplot as plt\n",
    "\n",
    "x = data[0]\n",
    "y = data[1]\n",
    "z = data[2]\n",
    "\n",
    " \n",
    "# creating the plot\n",
    "plt.plot(x, y, color='green')\n",
    "plt.show()\n",
    " "
   ]
  },
  {
   "attachments": {},
   "cell_type": "markdown",
   "metadata": {},
   "source": []
  }
 ],
 "metadata": {
  "kernelspec": {
   "display_name": "Python 3",
   "language": "python",
   "name": "python3"
  },
  "language_info": {
   "codemirror_mode": {
    "name": "ipython",
    "version": 3
   },
   "file_extension": ".py",
   "mimetype": "text/x-python",
   "name": "python",
   "nbconvert_exporter": "python",
   "pygments_lexer": "ipython3",
   "version": "3.11.3"
  },
  "orig_nbformat": 4
 },
 "nbformat": 4,
 "nbformat_minor": 2
}
